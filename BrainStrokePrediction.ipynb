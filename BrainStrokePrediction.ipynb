{
  "cells": [
    {
      "cell_type": "code",
      "execution_count": null,
      "metadata": {
        "id": "a-oisgA9ALin"
      },
      "outputs": [],
      "source": [
        "import numpy as np\n",
        "import pandas as pd\n",
        "import matplotlib.pyplot as plt\n",
        "import seaborn as sns\n",
        "import imblearn as ib\n",
        "import warnings"
      ]
    },
    {
      "cell_type": "code",
      "execution_count": null,
      "metadata": {
        "id": "I0lUMpMKALir"
      },
      "outputs": [],
      "source": [
        "df = pd.read_csv(\"healthcare-dataset-stroke-data.csv\")"
      ]
    },
    {
      "cell_type": "code",
      "execution_count": null,
      "metadata": {
        "id": "CSdB7u69ALis"
      },
      "outputs": [],
      "source": [
        "df.head()"
      ]
    },
    {
      "cell_type": "markdown",
      "metadata": {
        "id": "EuZrVDuNALis"
      },
      "source": [
        "### Find the number of NULL values in each column"
      ]
    },
    {
      "cell_type": "code",
      "execution_count": null,
      "metadata": {
        "id": "aVuKTJq7ALit"
      },
      "outputs": [],
      "source": [
        "print(df.isna().sum())\n",
        "df.isna().sum().plot.barh()"
      ]
    },
    {
      "cell_type": "code",
      "execution_count": null,
      "metadata": {
        "id": "GYqJiAMaALiu"
      },
      "outputs": [],
      "source": [
        "df.describe()"
      ]
    },
    {
      "cell_type": "code",
      "execution_count": null,
      "metadata": {
        "id": "pjdZsjeeALiu"
      },
      "outputs": [],
      "source": [
        "df.info()"
      ]
    },
    {
      "cell_type": "markdown",
      "metadata": {
        "id": "D0ioRWS7ALiv"
      },
      "source": [
        "## PRE PROCESSING"
      ]
    },
    {
      "cell_type": "code",
      "execution_count": null,
      "metadata": {
        "id": "DVvXIn6pALiv"
      },
      "outputs": [],
      "source": [
        "df = df.drop(['id'],axis=1)"
      ]
    },
    {
      "cell_type": "markdown",
      "metadata": {
        "id": "_xuC31-gALiv"
      },
      "source": [
        "### Gender analysis"
      ]
    },
    {
      "cell_type": "code",
      "execution_count": null,
      "metadata": {
        "id": "ZbNAODAkALiw"
      },
      "outputs": [],
      "source": [
        "df['gender'].value_counts()"
      ]
    },
    {
      "cell_type": "code",
      "execution_count": null,
      "metadata": {
        "id": "I9DkxQ8hALiw"
      },
      "outputs": [],
      "source": [
        "df['gender'] = df['gender'].replace('Other','Female')\n",
        "df['gender'].value_counts().plot(kind=\"pie\")"
      ]
    },
    {
      "cell_type": "markdown",
      "metadata": {
        "id": "DVfXRAThALiw"
      },
      "source": [
        "## Target feature - Stroke"
      ]
    },
    {
      "cell_type": "markdown",
      "metadata": {
        "id": "AjGdO3PyALiw"
      },
      "source": [
        "### Stroke analysis"
      ]
    },
    {
      "cell_type": "code",
      "execution_count": null,
      "metadata": {
        "id": "dT4WGLxLALiw"
      },
      "outputs": [],
      "source": [
        "df['stroke'].value_counts()"
      ]
    },
    {
      "cell_type": "code",
      "execution_count": null,
      "metadata": {
        "id": "p9w-RhcjALix"
      },
      "outputs": [],
      "source": [
        "df['stroke'].value_counts().plot(kind=\"bar\",color = \"cyan\")"
      ]
    },
    {
      "cell_type": "code",
      "execution_count": null,
      "metadata": {
        "id": "7byyxPt2ALix"
      },
      "outputs": [],
      "source": [
        "print(\"% of people who actualy got a stroke : \",(df['stroke'].value_counts()[1]/df['stroke'].value_counts().sum()).round(3)*100)"
      ]
    },
    {
      "cell_type": "markdown",
      "metadata": {
        "id": "i3qF9MeYALix"
      },
      "source": [
        "### Hyper-tension Analysis"
      ]
    },
    {
      "cell_type": "code",
      "execution_count": null,
      "metadata": {
        "id": "LibCEr3tALix"
      },
      "outputs": [],
      "source": [
        "df['hypertension'].value_counts().plot(kind=\"bar\",color = \"red\")"
      ]
    },
    {
      "cell_type": "markdown",
      "metadata": {
        "id": "fufRzLE4ALiy"
      },
      "source": [
        "### Work type Analysis"
      ]
    },
    {
      "cell_type": "code",
      "execution_count": null,
      "metadata": {
        "id": "PbqaSHyxALiy"
      },
      "outputs": [],
      "source": [
        "df['work_type'].value_counts()"
      ]
    },
    {
      "cell_type": "code",
      "execution_count": null,
      "metadata": {
        "id": "m0kZ5UdUALiy"
      },
      "outputs": [],
      "source": [
        "df['work_type'].value_counts().plot(kind=\"pie\")"
      ]
    },
    {
      "cell_type": "markdown",
      "metadata": {
        "id": "nSUDwbMyALiz"
      },
      "source": [
        "### Smoking status Analysis"
      ]
    },
    {
      "cell_type": "code",
      "execution_count": null,
      "metadata": {
        "id": "-D9sytZfALiz"
      },
      "outputs": [],
      "source": [
        "df['smoking_status'].value_counts()"
      ]
    },
    {
      "cell_type": "code",
      "execution_count": null,
      "metadata": {
        "id": "eR3LT-FDALiz"
      },
      "outputs": [],
      "source": [
        "df['smoking_status'].value_counts().plot(kind=\"pie\")"
      ]
    },
    {
      "cell_type": "markdown",
      "metadata": {
        "id": "nkOMq8CtALiz"
      },
      "source": [
        "### Residence type Analysis"
      ]
    },
    {
      "cell_type": "code",
      "execution_count": null,
      "metadata": {
        "id": "2wG9SHhFALi0"
      },
      "outputs": [],
      "source": [
        "df['Residence_type'].value_counts()"
      ]
    },
    {
      "cell_type": "code",
      "execution_count": null,
      "metadata": {
        "id": "Pgb52djRALi0"
      },
      "outputs": [],
      "source": [
        "df['Residence_type'].value_counts().plot(kind=\"pie\")"
      ]
    },
    {
      "cell_type": "markdown",
      "metadata": {
        "id": "RH15DO4cALi0"
      },
      "source": [
        "### BMI analysis"
      ]
    },
    {
      "cell_type": "code",
      "execution_count": null,
      "metadata": {
        "id": "v-a4QDIjALi0"
      },
      "outputs": [],
      "source": [
        "df['bmi'].isnull().sum()"
      ]
    },
    {
      "cell_type": "code",
      "execution_count": null,
      "metadata": {
        "id": "8LK9nZkgALi0"
      },
      "outputs": [],
      "source": [
        "sns.histplot(data=df['bmi'])"
      ]
    },
    {
      "cell_type": "code",
      "execution_count": null,
      "metadata": {
        "id": "jKdWvxe4ALi1"
      },
      "outputs": [],
      "source": [
        "sns.boxplot(data=df['bmi'])"
      ]
    },
    {
      "cell_type": "code",
      "execution_count": null,
      "metadata": {
        "id": "azRCLtclALi1"
      },
      "outputs": [],
      "source": [
        "Q1 = df['bmi'].quantile(0.25)\n",
        "Q3 = df['bmi'].quantile(0.75)\n",
        "IQR = Q3 - Q1\n",
        "da=(df['bmi'] < (Q1 - 1.5 * IQR)) | (df['bmi'] > (Q3 + 1.5 * IQR))\n",
        "da.value_counts()"
      ]
    },
    {
      "cell_type": "code",
      "execution_count": null,
      "metadata": {
        "id": "uBc7uFhdALi1"
      },
      "outputs": [],
      "source": [
        "df['bmi'].isna().sum()/len(df['bmi'])*100"
      ]
    },
    {
      "cell_type": "code",
      "execution_count": null,
      "metadata": {
        "id": "rpYYO10EALi2"
      },
      "outputs": [],
      "source": [
        "df_na=df.loc[df['bmi'].isnull()]\n",
        "g=df_na['stroke'].sum()\n",
        "print(\"People who got stroke and their BMI is NA:\",g)\n",
        "h=df['stroke'].sum()\n",
        "print(\"People who got stroke and their BMI is given:\",h)\n",
        "print(\"percentage of people with stroke in Nan values to the overall dataset:\",g/h*100)"
      ]
    },
    {
      "cell_type": "code",
      "execution_count": null,
      "metadata": {
        "id": "8zgSbwE3ALi2"
      },
      "outputs": [],
      "source": [
        "df['stroke'].sum()/len(df)*100"
      ]
    },
    {
      "cell_type": "code",
      "execution_count": null,
      "metadata": {
        "id": "JvuH7Ah8ALi3"
      },
      "outputs": [],
      "source": [
        "df_na=df.loc[df['bmi'].isnull()]\n",
        "print(\"Nan BMI values where people have stroke:\",df_na['stroke'].sum())\n",
        "print(\"overall BMI values where people have stroke:\",df['stroke'].sum())"
      ]
    },
    {
      "cell_type": "code",
      "execution_count": null,
      "metadata": {
        "id": "AYfyRGEuALi3"
      },
      "outputs": [],
      "source": [
        "print(\"median of bmi\",df['bmi'].median())\n",
        "df['bmi']=df['bmi'].fillna(df['bmi'].median())"
      ]
    },
    {
      "cell_type": "markdown",
      "metadata": {
        "id": "iriOzbLfALi3"
      },
      "source": [
        "### AGE analysis"
      ]
    },
    {
      "cell_type": "code",
      "execution_count": null,
      "metadata": {
        "id": "Uno3GrCLALi3"
      },
      "outputs": [],
      "source": [
        "sns.histplot(data=df['age'])"
      ]
    },
    {
      "cell_type": "code",
      "execution_count": null,
      "metadata": {
        "id": "LdbN_ZKZALi3"
      },
      "outputs": [],
      "source": [
        "sns.boxplot(data=df['age'])"
      ]
    },
    {
      "cell_type": "markdown",
      "metadata": {
        "id": "Zuh3qfXjALi4"
      },
      "source": [
        "### AVERAGE GLUCOSE LEVEL ANALYSIS"
      ]
    },
    {
      "cell_type": "code",
      "execution_count": null,
      "metadata": {
        "id": "LvuWT4ZCALi4"
      },
      "outputs": [],
      "source": [
        "sns.histplot(data=df['avg_glucose_level'])"
      ]
    },
    {
      "cell_type": "code",
      "execution_count": null,
      "metadata": {
        "id": "EcBD4FWDALi4"
      },
      "outputs": [],
      "source": [
        "sns.boxplot(data=df['avg_glucose_level'])"
      ]
    },
    {
      "cell_type": "code",
      "execution_count": null,
      "metadata": {
        "id": "XpqDoLKDALi4"
      },
      "outputs": [],
      "source": [
        "Q1 = df['avg_glucose_level'].quantile(0.25)\n",
        "Q3 = df['avg_glucose_level'].quantile(0.75)\n",
        "IQR = Q3 - Q1\n",
        "da=(df['avg_glucose_level'] < (Q1 - 1.5 * IQR)) | (df['avg_glucose_level'] > (Q3 + 1.5 * IQR))\n",
        "da.value_counts()"
      ]
    },
    {
      "cell_type": "code",
      "execution_count": null,
      "metadata": {
        "id": "NJ-DIIlnALi4"
      },
      "outputs": [],
      "source": [
        "corrmat=df.corr()\n",
        "f,ax=plt.subplots(figsize=(9,8))\n",
        "sns.heatmap(corrmat,ax=ax,cmap=\"YlGnBu\",linewidth=0.8,annot=True)"
      ]
    },
    {
      "cell_type": "markdown",
      "metadata": {
        "id": "Qy7C5ZlfALi4"
      },
      "source": [
        "### Heart_disease analysis"
      ]
    },
    {
      "cell_type": "code",
      "execution_count": null,
      "metadata": {
        "id": "9Gy23l51ALi4"
      },
      "outputs": [],
      "source": [
        "df['heart_disease'].value_counts()"
      ]
    },
    {
      "cell_type": "code",
      "execution_count": null,
      "metadata": {
        "id": "fweaEdeKALi5"
      },
      "outputs": [],
      "source": [
        "df['heart_disease'].value_counts().plot(kind=\"pie\")"
      ]
    },
    {
      "cell_type": "markdown",
      "metadata": {
        "id": "ZC6s3SmxALi5"
      },
      "source": [
        "### Ever_married analysis with Values"
      ]
    },
    {
      "cell_type": "code",
      "execution_count": null,
      "metadata": {
        "id": "RBnxBxCmALi5"
      },
      "outputs": [],
      "source": [
        "df['ever_married'].value_counts()"
      ]
    },
    {
      "cell_type": "code",
      "execution_count": null,
      "metadata": {
        "id": "KWj3vn8fALi5"
      },
      "outputs": [],
      "source": [
        "df['ever_married'].value_counts().plot(kind=\"pie\")"
      ]
    },
    {
      "cell_type": "markdown",
      "metadata": {
        "id": "Zy-KSFBtALi5"
      },
      "source": [
        "## Cross analysis - all the attribute compared with target attibute"
      ]
    },
    {
      "cell_type": "code",
      "execution_count": null,
      "metadata": {
        "id": "IRGH7h-TALi5"
      },
      "outputs": [],
      "source": [
        "sns.countplot(x='stroke', hue='gender', data=df)"
      ]
    },
    {
      "cell_type": "code",
      "execution_count": null,
      "metadata": {
        "id": "urph4deGALi5"
      },
      "outputs": [],
      "source": [
        "sns.countplot(x='stroke', hue='work_type', data=df)"
      ]
    },
    {
      "cell_type": "code",
      "execution_count": null,
      "metadata": {
        "id": "-pKFcp_wALi5"
      },
      "outputs": [],
      "source": [
        "sns.countplot(x='stroke', hue='smoking_status', data=df)"
      ]
    },
    {
      "cell_type": "code",
      "execution_count": null,
      "metadata": {
        "id": "PnTJcdjcALi6"
      },
      "outputs": [],
      "source": [
        "sns.countplot(x='stroke', hue='Residence_type', data=df)"
      ]
    },
    {
      "cell_type": "code",
      "execution_count": null,
      "metadata": {
        "id": "1-y-4_-zALi6"
      },
      "outputs": [],
      "source": [
        "sns.countplot(x='stroke', hue='heart_disease', data=df)"
      ]
    },
    {
      "cell_type": "code",
      "execution_count": null,
      "metadata": {
        "id": "QbodYMweALi6"
      },
      "outputs": [],
      "source": [
        "sns.countplot(x='stroke', hue='ever_married', data=df)"
      ]
    },
    {
      "cell_type": "markdown",
      "metadata": {
        "id": "1aGxB09CALi6"
      },
      "source": [
        "### Creating dummy variables for numeric-binary attributes"
      ]
    },
    {
      "cell_type": "code",
      "execution_count": null,
      "metadata": {
        "id": "p0SkDlkAALi6"
      },
      "outputs": [],
      "source": [
        "df[['hypertension', 'heart_disease', 'stroke']] = df[['hypertension', 'heart_disease', 'stroke']].astype(str)\n",
        "df = pd.get_dummies(df, drop_first= True)"
      ]
    },
    {
      "cell_type": "code",
      "execution_count": null,
      "metadata": {
        "id": "KiAv_5v8ALi6"
      },
      "outputs": [],
      "source": [
        "df.head()"
      ]
    },
    {
      "cell_type": "code",
      "execution_count": null,
      "metadata": {
        "id": "eF5Hk7usALi6"
      },
      "outputs": [],
      "source": [
        "from imblearn.over_sampling import RandomOverSampler"
      ]
    },
    {
      "cell_type": "code",
      "execution_count": null,
      "metadata": {
        "id": "emlFlB_UALi6"
      },
      "outputs": [],
      "source": [
        "oversample = RandomOverSampler(sampling_strategy='minority')\n",
        "X=df.drop(['stroke_1'],axis=1)\n",
        "y=df['stroke_1']\n",
        "\n",
        "X_over, y_over = oversample.fit_resample(X, y)"
      ]
    },
    {
      "cell_type": "code",
      "execution_count": null,
      "metadata": {
        "id": "2YN9VdMEALi7"
      },
      "outputs": [],
      "source": [
        "from sklearn.preprocessing import StandardScaler\n",
        "s = StandardScaler()\n",
        "df[['bmi', 'avg_glucose_level', 'age']] = s.fit_transform(df[['bmi', 'avg_glucose_level', 'age']])"
      ]
    },
    {
      "cell_type": "markdown",
      "metadata": {
        "id": "L5-sLoK5ALi7"
      },
      "source": [
        "### Creating test-train split (80-20 split)"
      ]
    },
    {
      "cell_type": "code",
      "execution_count": null,
      "metadata": {
        "id": "7T3kLkpQALi7"
      },
      "outputs": [],
      "source": [
        "from sklearn.model_selection import train_test_split\n",
        "X_train, X_test, y_train, y_test = train_test_split(X_over, y_over, test_size= 0.20, random_state= 42)"
      ]
    },
    {
      "cell_type": "code",
      "execution_count": null,
      "metadata": {
        "id": "mE1HfgJkALi7"
      },
      "outputs": [],
      "source": [
        "print('X_train:', X_train.shape)\n",
        "print('y_train:', y_train.shape)\n",
        "print('X_test:', X_test.shape)\n",
        "print('y_test:', y_test.shape)"
      ]
    },
    {
      "cell_type": "markdown",
      "metadata": {
        "id": "8BXYJyz4ALi7"
      },
      "source": [
        "## Training Model"
      ]
    },
    {
      "cell_type": "markdown",
      "metadata": {
        "id": "EqTKEZSSALi7"
      },
      "source": [
        "### Decision Tree"
      ]
    },
    {
      "cell_type": "code",
      "execution_count": null,
      "metadata": {
        "id": "OkqRDEOcALi7"
      },
      "outputs": [],
      "source": [
        "from sklearn.metrics import classification_report\n",
        "from sklearn.tree import DecisionTreeClassifier\n",
        "from sklearn import metrics\n",
        "from sklearn.metrics import auc,roc_auc_score,roc_curve,precision_score,recall_score,f1_score\n",
        "\n",
        "clf = DecisionTreeClassifier()\n",
        "clf = clf.fit(X_train,y_train)\n",
        "y_pred = clf.predict(X_test)\n",
        "DT_accuracy = metrics.accuracy_score(y_test, y_pred)\n",
        "print(\"Accuracy:\",DT_accuracy)"
      ]
    },
    {
      "cell_type": "code",
      "execution_count": null,
      "metadata": {
        "id": "7O3U7jJoGLMc"
      },
      "outputs": [],
      "source": [
        "print(classification_report(y_test, y_pred))"
      ]
    },
    {
      "cell_type": "markdown",
      "metadata": {
        "id": "8lMBiEXhALi7"
      },
      "source": [
        "### KNN"
      ]
    },
    {
      "cell_type": "code",
      "execution_count": null,
      "metadata": {
        "id": "aaTJou04ALi8"
      },
      "outputs": [],
      "source": [
        "from sklearn.neighbors import KNeighborsClassifier\n",
        "from sklearn.metrics import classification_report,accuracy_score,confusion_matrix\n",
        "from sklearn.metrics import auc,roc_auc_score,roc_curve,precision_score,recall_score,f1_score\n",
        "\n",
        "knn = KNeighborsClassifier(n_neighbors = 2)\n",
        "knn.fit(X_train,y_train)\n",
        "y_pred_knn = knn.predict(X_test)\n",
        "y_pred_prob_knn = knn.predict_proba(X_test)[:, 1]\n",
        "\n",
        "confusion_matrix(y_test, y_pred_knn)\n",
        "KNN_accuracy = accuracy_score(y_test, y_pred_knn)\n",
        "print('Accuracy:',KNN_accuracy)\n",
        "print('ROC AUC Score:', roc_auc_score(y_test, y_pred_prob_knn))"
      ]
    },
    {
      "cell_type": "code",
      "execution_count": null,
      "metadata": {
        "id": "zkb2mKZ2GHcG"
      },
      "outputs": [],
      "source": [
        "print(classification_report(y_test, y_pred_knn))"
      ]
    },
    {
      "cell_type": "markdown",
      "metadata": {
        "id": "DxluFnt1ALi8"
      },
      "source": [
        "### XGBoost"
      ]
    },
    {
      "cell_type": "code",
      "execution_count": null,
      "metadata": {
        "id": "wor2P-ntALi8"
      },
      "outputs": [],
      "source": [
        "from xgboost  import XGBClassifier\n",
        "\n",
        "xgb = XGBClassifier()\n",
        "xgb.fit(X_train,y_train)\n",
        "y_pred_xgb = xgb.predict(X_test)\n",
        "y_pred_prob_xgb = xgb.predict_proba(X_test)[:, 1]\n",
        "XG_accuracy  = accuracy_score(y_test, y_pred_xgb)\n",
        "print('Accuracy:',XG_accuracy)\n",
        "print('ROC AUC Score:', roc_auc_score(y_test, y_pred_prob_xgb))"
      ]
    },
    {
      "cell_type": "code",
      "execution_count": null,
      "metadata": {
        "id": "kTstEhVVALi8"
      },
      "outputs": [],
      "source": [
        "fpr, tpr, thresholds = roc_curve(y_test, y_pred_prob_xgb)\n",
        "plt.figure(figsize=(6,4))\n",
        "plt.plot(fpr, tpr, linewidth=2, color= 'teal')\n",
        "plt.plot([0,1], [0,1], 'r--' )\n",
        "plt.title('ROC Curve of XGBOOST')\n",
        "plt.xlabel('False Positive Rate')\n",
        "plt.ylabel('True Positive Rate')\n",
        "plt.show()"
      ]
    },
    {
      "cell_type": "code",
      "execution_count": null,
      "metadata": {
        "id": "lvzKyETIALi9"
      },
      "outputs": [],
      "source": [
        "from sklearn.metrics import confusion_matrix\n",
        "confusion_matrix(y_test, y_pred_xgb)"
      ]
    },
    {
      "cell_type": "code",
      "execution_count": null,
      "metadata": {
        "id": "q5v579BhALi9"
      },
      "outputs": [],
      "source": [
        "from sklearn.metrics import accuracy_score,precision_score,recall_score,f1_score\n",
        "print(\"Accuracy_score:\",accuracy_score(y_test,y_pred_xgb))\n",
        "print(\"Precision_score:\",precision_score(y_test,y_pred_xgb))\n",
        "print(\"Recall_score:\",recall_score(y_test,y_pred_xgb))\n",
        "print(\"f1_score:\",f1_score(y_test,y_pred_xgb))\n",
        "print('ROC AUC Score:', roc_auc_score(y_test, y_pred_prob_xgb))"
      ]
    },
    {
      "cell_type": "code",
      "execution_count": null,
      "metadata": {
        "id": "u-qEpAi7F-mV"
      },
      "outputs": [],
      "source": [
        "print(classification_report(y_test, y_pred_xgb))"
      ]
    },
    {
      "cell_type": "markdown",
      "metadata": {
        "id": "_QHmkHExALi9"
      },
      "source": [
        "### Random Forest"
      ]
    },
    {
      "cell_type": "code",
      "execution_count": null,
      "metadata": {
        "id": "A1aDpD0lALi9"
      },
      "outputs": [],
      "source": [
        "from sklearn.ensemble import RandomForestClassifier\n",
        "from sklearn.model_selection import RandomizedSearchCV\n",
        "\n",
        "rf_clf = RandomForestClassifier(n_estimators = 100)\n",
        "rf_clf.fit(X_train, y_train)\n",
        "y_pred_rf = rf_clf.predict(X_test)\n",
        "RF_accuracy = accuracy_score(y_test, y_pred_rf)\n",
        "print('Accuracy:',RF_accuracy)"
      ]
    },
    {
      "cell_type": "code",
      "execution_count": null,
      "metadata": {
        "colab": {
          "background_save": true
        },
        "id": "ZdAzUKnOALi-",
        "outputId": "7fd6b141-5ba6-4280-a193-fb559558baba"
      },
      "outputs": [
        {
          "name": "stdout",
          "output_type": "stream",
          "text": [
            "Accuracy:  99.3622877954386\n",
            "[0.98973306 0.99589322 0.99382716 0.99176955 0.99588477 1.\n",
            " 1.         1.         0.99382716 0.99176955 0.99382716 0.99176955\n",
            " 0.98765432 0.99382716 0.98971193 0.99176955 0.99176955 0.99794239\n",
            " 0.98353909 0.99794239]\n"
          ]
        }
      ],
      "source": [
        "from sklearn import model_selection\n",
        "from sklearn.model_selection import KFold\n",
        "\n",
        "kfold_kridge = model_selection.KFold(n_splits=20, shuffle=True)\n",
        "results_kfold = model_selection.cross_val_score(rf_clf, X_over, y_over, cv=kfold_kridge)\n",
        "print(\"Accuracy: \", results_kfold.mean()*100)\n",
        "print(results_kfold)"
      ]
    },
    {
      "cell_type": "code",
      "execution_count": null,
      "metadata": {
        "colab": {
          "background_save": true
        },
        "id": "SjF60KuxALi-",
        "outputId": "8d292e2c-aa3b-43b0-9390-e7fdeb3b56b9"
      },
      "outputs": [
        {
          "data": {
            "text/plain": [
              "array([[963,  12],\n",
              "       [  0, 970]])"
            ]
          },
          "execution_count": 63,
          "metadata": {},
          "output_type": "execute_result"
        }
      ],
      "source": [
        "from sklearn.metrics import confusion_matrix\n",
        "confusion_matrix(y_test, y_pred_rf)"
      ]
    },
    {
      "cell_type": "code",
      "execution_count": null,
      "metadata": {
        "colab": {
          "background_save": true
        },
        "id": "QaRpNdevFz9j",
        "outputId": "1c0be67f-08f9-45c3-d686-56c69779814d"
      },
      "outputs": [
        {
          "name": "stdout",
          "output_type": "stream",
          "text": [
            "              precision    recall  f1-score   support\n",
            "\n",
            "           0       1.00      0.99      0.99       975\n",
            "           1       0.99      1.00      0.99       970\n",
            "\n",
            "    accuracy                           0.99      1945\n",
            "   macro avg       0.99      0.99      0.99      1945\n",
            "weighted avg       0.99      0.99      0.99      1945\n",
            "\n"
          ]
        }
      ],
      "source": [
        "print(classification_report(y_test, y_pred_rf))"
      ]
    },
    {
      "cell_type": "markdown",
      "metadata": {
        "id": "zHEqlVvnALi-"
      },
      "source": [
        "### Logistic regression"
      ]
    },
    {
      "cell_type": "code",
      "execution_count": null,
      "metadata": {
        "colab": {
          "background_save": true
        },
        "id": "VRPiKIHkALi-",
        "outputId": "1c92d306-ccf1-4c6b-e392-68a264edb845"
      },
      "outputs": [
        {
          "name": "stdout",
          "output_type": "stream",
          "text": [
            "Accuracy: 0.7763496143958869\n"
          ]
        },
        {
          "name": "stderr",
          "output_type": "stream",
          "text": [
            "/usr/local/lib/python3.10/dist-packages/sklearn/linear_model/_logistic.py:458: ConvergenceWarning: lbfgs failed to converge (status=1):\n",
            "STOP: TOTAL NO. of ITERATIONS REACHED LIMIT.\n",
            "\n",
            "Increase the number of iterations (max_iter) or scale the data as shown in:\n",
            "    https://scikit-learn.org/stable/modules/preprocessing.html\n",
            "Please also refer to the documentation for alternative solver options:\n",
            "    https://scikit-learn.org/stable/modules/linear_model.html#logistic-regression\n",
            "  n_iter_i = _check_optimize_result(\n"
          ]
        }
      ],
      "source": [
        "from sklearn.linear_model import LogisticRegression\n",
        "\n",
        "classifier = LogisticRegression(random_state = 0)\n",
        "classifier.fit(X_train, y_train)\n",
        "y_pred_lr = classifier.predict(X_test)\n",
        "\n",
        "confusion_matrix(y_test, y_pred_lr)\n",
        "LR_accuracy = accuracy_score(y_test, y_pred_lr)\n",
        "print('Accuracy:', LR_accuracy)"
      ]
    },
    {
      "cell_type": "code",
      "execution_count": null,
      "metadata": {
        "colab": {
          "background_save": true
        },
        "id": "L9I86JdMFmC4",
        "outputId": "61468ebd-4ed7-422b-a553-6fadaddb3575"
      },
      "outputs": [
        {
          "name": "stdout",
          "output_type": "stream",
          "text": [
            "              precision    recall  f1-score   support\n",
            "\n",
            "           0       0.81      0.73      0.77       975\n",
            "           1       0.75      0.82      0.79       970\n",
            "\n",
            "    accuracy                           0.78      1945\n",
            "   macro avg       0.78      0.78      0.78      1945\n",
            "weighted avg       0.78      0.78      0.78      1945\n",
            "\n"
          ]
        }
      ],
      "source": [
        "print(classification_report(y_test, y_pred_lr))"
      ]
    },
    {
      "cell_type": "markdown",
      "metadata": {
        "id": "6j22UtyWALi-"
      },
      "source": [
        "### SVM"
      ]
    },
    {
      "cell_type": "code",
      "execution_count": null,
      "metadata": {
        "colab": {
          "background_save": true
        },
        "id": "9vnRn1iOALi-",
        "outputId": "20ef9374-4f2f-48be-f4a5-1fdf544ea0f2"
      },
      "outputs": [
        {
          "name": "stdout",
          "output_type": "stream",
          "text": [
            "0.7444730077120822\n"
          ]
        }
      ],
      "source": [
        "from sklearn.svm import SVC\n",
        "\n",
        "sv = SVC()\n",
        "sv.fit(X_train,y_train)\n",
        "y_pred_sv=sv.predict(X_test)\n",
        "SVM_accuracy = accuracy_score(y_test,y_pred_sv)\n",
        "\n",
        "print(SVM_accuracy)"
      ]
    },
    {
      "cell_type": "code",
      "execution_count": null,
      "metadata": {
        "colab": {
          "background_save": true
        },
        "id": "RtHKS7a7ALi-",
        "outputId": "16c1cd61-fb3e-4b1a-ca40-044a2969743a"
      },
      "outputs": [
        {
          "name": "stdout",
          "output_type": "stream",
          "text": [
            "              precision    recall  f1-score   support\n",
            "\n",
            "           0       0.76      0.71      0.74       975\n",
            "           1       0.73      0.78      0.75       970\n",
            "\n",
            "    accuracy                           0.74      1945\n",
            "   macro avg       0.75      0.74      0.74      1945\n",
            "weighted avg       0.75      0.74      0.74      1945\n",
            "\n"
          ]
        }
      ],
      "source": [
        "print(classification_report(y_test,y_pred_sv))"
      ]
    },
    {
      "cell_type": "markdown",
      "metadata": {
        "id": "6cM91MHQALi_"
      },
      "source": [
        "### AdaBoost"
      ]
    },
    {
      "cell_type": "code",
      "execution_count": null,
      "metadata": {
        "colab": {
          "background_save": true
        },
        "id": "BCCeJnwBALi_",
        "outputId": "0f50efb4-5907-49e8-83e3-dea766c938c5"
      },
      "outputs": [
        {
          "name": "stdout",
          "output_type": "stream",
          "text": [
            "0.7902313624678663\n"
          ]
        }
      ],
      "source": [
        "from sklearn.ensemble import AdaBoostClassifier\n",
        "from sklearn.metrics import accuracy_score\n",
        "\n",
        "adb = AdaBoostClassifier()\n",
        "adb.fit(X_train,y_train)\n",
        "y_pred_adb=adb.predict(X_test)\n",
        "ADa_accuracy = accuracy_score(y_test,y_pred_adb)\n",
        "print(ADa_accuracy)"
      ]
    },
    {
      "cell_type": "code",
      "execution_count": null,
      "metadata": {
        "colab": {
          "background_save": true
        },
        "id": "vQopYzoCALi_",
        "outputId": "04533a98-d656-4169-ce10-1a540b3daa03"
      },
      "outputs": [
        {
          "name": "stdout",
          "output_type": "stream",
          "text": [
            "              precision    recall  f1-score   support\n",
            "\n",
            "           0       0.83      0.73      0.78       975\n",
            "           1       0.76      0.85      0.80       970\n",
            "\n",
            "    accuracy                           0.79      1945\n",
            "   macro avg       0.79      0.79      0.79      1945\n",
            "weighted avg       0.80      0.79      0.79      1945\n",
            "\n"
          ]
        }
      ],
      "source": [
        "print(classification_report(y_test,y_pred_adb))"
      ]
    },
    {
      "cell_type": "markdown",
      "metadata": {
        "id": "jknzryMhALi_"
      },
      "source": [
        "### CatBoost"
      ]
    },
    {
      "cell_type": "code",
      "execution_count": null,
      "metadata": {
        "colab": {
          "background_save": true
        },
        "id": "BOvYjjUfALi_",
        "outputId": "99e1fa30-f367-4260-943d-8b97a8925a42"
      },
      "outputs": [
        {
          "name": "stdout",
          "output_type": "stream",
          "text": [
            "Collecting catboost\n",
            "  Downloading catboost-1.2.2-cp310-cp310-manylinux2014_x86_64.whl (98.7 MB)\n",
            "\u001b[2K     \u001b[90m━━━━━━━━━━━━━━━━━━━━━━━━━━━━━━━━━━━━━━━━\u001b[0m \u001b[32m98.7/98.7 MB\u001b[0m \u001b[31m9.9 MB/s\u001b[0m eta \u001b[36m0:00:00\u001b[0m\n",
            "\u001b[?25hRequirement already satisfied: graphviz in /usr/local/lib/python3.10/dist-packages (from catboost) (0.20.1)\n",
            "Requirement already satisfied: matplotlib in /usr/local/lib/python3.10/dist-packages (from catboost) (3.7.1)\n",
            "Requirement already satisfied: numpy>=1.16.0 in /usr/local/lib/python3.10/dist-packages (from catboost) (1.23.5)\n",
            "Requirement already satisfied: pandas>=0.24 in /usr/local/lib/python3.10/dist-packages (from catboost) (1.5.3)\n",
            "Requirement already satisfied: scipy in /usr/local/lib/python3.10/dist-packages (from catboost) (1.11.3)\n",
            "Requirement already satisfied: plotly in /usr/local/lib/python3.10/dist-packages (from catboost) (5.15.0)\n",
            "Requirement already satisfied: six in /usr/local/lib/python3.10/dist-packages (from catboost) (1.16.0)\n",
            "Requirement already satisfied: python-dateutil>=2.8.1 in /usr/local/lib/python3.10/dist-packages (from pandas>=0.24->catboost) (2.8.2)\n",
            "Requirement already satisfied: pytz>=2020.1 in /usr/local/lib/python3.10/dist-packages (from pandas>=0.24->catboost) (2023.3.post1)\n",
            "Requirement already satisfied: contourpy>=1.0.1 in /usr/local/lib/python3.10/dist-packages (from matplotlib->catboost) (1.1.1)\n",
            "Requirement already satisfied: cycler>=0.10 in /usr/local/lib/python3.10/dist-packages (from matplotlib->catboost) (0.12.1)\n",
            "Requirement already satisfied: fonttools>=4.22.0 in /usr/local/lib/python3.10/dist-packages (from matplotlib->catboost) (4.43.1)\n",
            "Requirement already satisfied: kiwisolver>=1.0.1 in /usr/local/lib/python3.10/dist-packages (from matplotlib->catboost) (1.4.5)\n",
            "Requirement already satisfied: packaging>=20.0 in /usr/local/lib/python3.10/dist-packages (from matplotlib->catboost) (23.2)\n",
            "Requirement already satisfied: pillow>=6.2.0 in /usr/local/lib/python3.10/dist-packages (from matplotlib->catboost) (9.4.0)\n",
            "Requirement already satisfied: pyparsing>=2.3.1 in /usr/local/lib/python3.10/dist-packages (from matplotlib->catboost) (3.1.1)\n",
            "Requirement already satisfied: tenacity>=6.2.0 in /usr/local/lib/python3.10/dist-packages (from plotly->catboost) (8.2.3)\n",
            "Installing collected packages: catboost\n",
            "Successfully installed catboost-1.2.2\n"
          ]
        }
      ],
      "source": [
        "!pip install catboost\n",
        "import catboost as ctb"
      ]
    },
    {
      "cell_type": "code",
      "execution_count": null,
      "metadata": {
        "colab": {
          "background_save": true
        },
        "id": "BWtIkrehALi_",
        "outputId": "1a2cfa1d-165c-4233-f383-4c52c7af55ca"
      },
      "outputs": [
        {
          "name": "stdout",
          "output_type": "stream",
          "text": [
            "Learning rate set to 0.024735\n",
            "0:\tlearn: 0.6777135\ttotal: 50.7ms\tremaining: 50.7s\n",
            "1:\tlearn: 0.6650048\ttotal: 53.9ms\tremaining: 26.9s\n",
            "2:\tlearn: 0.6517112\ttotal: 56.9ms\tremaining: 18.9s\n",
            "3:\tlearn: 0.6377224\ttotal: 62.1ms\tremaining: 15.5s\n",
            "4:\tlearn: 0.6254543\ttotal: 65.7ms\tremaining: 13.1s\n",
            "5:\tlearn: 0.6137638\ttotal: 70.4ms\tremaining: 11.7s\n",
            "6:\tlearn: 0.6050191\ttotal: 75.9ms\tremaining: 10.8s\n",
            "7:\tlearn: 0.5964738\ttotal: 81.5ms\tremaining: 10.1s\n",
            "8:\tlearn: 0.5880312\ttotal: 86.6ms\tremaining: 9.53s\n",
            "9:\tlearn: 0.5794442\ttotal: 89.7ms\tremaining: 8.88s\n",
            "10:\tlearn: 0.5720313\ttotal: 93.1ms\tremaining: 8.37s\n",
            "11:\tlearn: 0.5643628\ttotal: 96.5ms\tremaining: 7.95s\n",
            "12:\tlearn: 0.5552489\ttotal: 102ms\tremaining: 7.77s\n",
            "13:\tlearn: 0.5489984\ttotal: 108ms\tremaining: 7.62s\n",
            "14:\tlearn: 0.5417293\ttotal: 113ms\tremaining: 7.43s\n",
            "15:\tlearn: 0.5372127\ttotal: 116ms\tremaining: 7.16s\n",
            "16:\tlearn: 0.5305872\ttotal: 120ms\tremaining: 6.94s\n",
            "17:\tlearn: 0.5252405\ttotal: 124ms\tremaining: 6.74s\n",
            "18:\tlearn: 0.5213464\ttotal: 127ms\tremaining: 6.56s\n",
            "19:\tlearn: 0.5152580\ttotal: 131ms\tremaining: 6.4s\n",
            "20:\tlearn: 0.5098198\ttotal: 134ms\tremaining: 6.25s\n",
            "21:\tlearn: 0.5057009\ttotal: 138ms\tremaining: 6.11s\n",
            "22:\tlearn: 0.5020311\ttotal: 141ms\tremaining: 6s\n",
            "23:\tlearn: 0.4969155\ttotal: 145ms\tremaining: 5.88s\n",
            "24:\tlearn: 0.4930864\ttotal: 148ms\tremaining: 5.77s\n",
            "25:\tlearn: 0.4887920\ttotal: 151ms\tremaining: 5.67s\n",
            "26:\tlearn: 0.4850893\ttotal: 155ms\tremaining: 5.58s\n",
            "27:\tlearn: 0.4796741\ttotal: 158ms\tremaining: 5.5s\n",
            "28:\tlearn: 0.4762394\ttotal: 162ms\tremaining: 5.41s\n",
            "29:\tlearn: 0.4716716\ttotal: 165ms\tremaining: 5.33s\n",
            "30:\tlearn: 0.4693848\ttotal: 168ms\tremaining: 5.26s\n",
            "31:\tlearn: 0.4661387\ttotal: 172ms\tremaining: 5.2s\n",
            "32:\tlearn: 0.4637876\ttotal: 175ms\tremaining: 5.14s\n",
            "33:\tlearn: 0.4600130\ttotal: 179ms\tremaining: 5.08s\n",
            "34:\tlearn: 0.4564958\ttotal: 182ms\tremaining: 5.02s\n",
            "35:\tlearn: 0.4541257\ttotal: 186ms\tremaining: 4.97s\n",
            "36:\tlearn: 0.4509014\ttotal: 189ms\tremaining: 4.92s\n",
            "37:\tlearn: 0.4482140\ttotal: 195ms\tremaining: 4.95s\n",
            "38:\tlearn: 0.4460482\ttotal: 200ms\tremaining: 4.94s\n",
            "39:\tlearn: 0.4436561\ttotal: 204ms\tremaining: 4.89s\n",
            "40:\tlearn: 0.4417504\ttotal: 207ms\tremaining: 4.85s\n",
            "41:\tlearn: 0.4400013\ttotal: 211ms\tremaining: 4.8s\n",
            "42:\tlearn: 0.4380871\ttotal: 214ms\tremaining: 4.76s\n",
            "43:\tlearn: 0.4359546\ttotal: 218ms\tremaining: 4.72s\n",
            "44:\tlearn: 0.4340404\ttotal: 221ms\tremaining: 4.69s\n",
            "45:\tlearn: 0.4316107\ttotal: 224ms\tremaining: 4.65s\n",
            "46:\tlearn: 0.4304010\ttotal: 228ms\tremaining: 4.62s\n",
            "47:\tlearn: 0.4287527\ttotal: 231ms\tremaining: 4.59s\n",
            "48:\tlearn: 0.4267986\ttotal: 235ms\tremaining: 4.55s\n",
            "49:\tlearn: 0.4253898\ttotal: 238ms\tremaining: 4.53s\n",
            "50:\tlearn: 0.4233051\ttotal: 242ms\tremaining: 4.5s\n",
            "51:\tlearn: 0.4213985\ttotal: 245ms\tremaining: 4.47s\n",
            "52:\tlearn: 0.4200553\ttotal: 248ms\tremaining: 4.44s\n",
            "53:\tlearn: 0.4189102\ttotal: 252ms\tremaining: 4.42s\n",
            "54:\tlearn: 0.4178220\ttotal: 256ms\tremaining: 4.39s\n",
            "55:\tlearn: 0.4166040\ttotal: 259ms\tremaining: 4.37s\n",
            "56:\tlearn: 0.4152155\ttotal: 263ms\tremaining: 4.34s\n",
            "57:\tlearn: 0.4135812\ttotal: 266ms\tremaining: 4.32s\n",
            "58:\tlearn: 0.4125015\ttotal: 269ms\tremaining: 4.3s\n",
            "59:\tlearn: 0.4112322\ttotal: 273ms\tremaining: 4.28s\n",
            "60:\tlearn: 0.4101826\ttotal: 276ms\tremaining: 4.25s\n",
            "61:\tlearn: 0.4088231\ttotal: 280ms\tremaining: 4.23s\n",
            "62:\tlearn: 0.4071716\ttotal: 283ms\tremaining: 4.21s\n",
            "63:\tlearn: 0.4062124\ttotal: 287ms\tremaining: 4.19s\n",
            "64:\tlearn: 0.4043405\ttotal: 290ms\tremaining: 4.17s\n",
            "65:\tlearn: 0.4034522\ttotal: 293ms\tremaining: 4.15s\n",
            "66:\tlearn: 0.4023181\ttotal: 297ms\tremaining: 4.13s\n",
            "67:\tlearn: 0.4009951\ttotal: 300ms\tremaining: 4.11s\n",
            "68:\tlearn: 0.3991861\ttotal: 304ms\tremaining: 4.09s\n",
            "69:\tlearn: 0.3977454\ttotal: 307ms\tremaining: 4.08s\n",
            "70:\tlearn: 0.3959285\ttotal: 310ms\tremaining: 4.06s\n",
            "71:\tlearn: 0.3944585\ttotal: 314ms\tremaining: 4.04s\n",
            "72:\tlearn: 0.3931043\ttotal: 317ms\tremaining: 4.03s\n",
            "73:\tlearn: 0.3915304\ttotal: 321ms\tremaining: 4.01s\n",
            "74:\tlearn: 0.3901586\ttotal: 324ms\tremaining: 3.99s\n",
            "75:\tlearn: 0.3887173\ttotal: 327ms\tremaining: 3.98s\n",
            "76:\tlearn: 0.3880978\ttotal: 330ms\tremaining: 3.96s\n",
            "77:\tlearn: 0.3871504\ttotal: 334ms\tremaining: 3.95s\n",
            "78:\tlearn: 0.3861014\ttotal: 337ms\tremaining: 3.93s\n",
            "79:\tlearn: 0.3850767\ttotal: 341ms\tremaining: 3.92s\n",
            "80:\tlearn: 0.3840164\ttotal: 344ms\tremaining: 3.9s\n",
            "81:\tlearn: 0.3832133\ttotal: 348ms\tremaining: 3.89s\n",
            "82:\tlearn: 0.3820929\ttotal: 351ms\tremaining: 3.88s\n",
            "83:\tlearn: 0.3813192\ttotal: 356ms\tremaining: 3.88s\n",
            "84:\tlearn: 0.3803870\ttotal: 359ms\tremaining: 3.86s\n",
            "85:\tlearn: 0.3791945\ttotal: 362ms\tremaining: 3.84s\n",
            "86:\tlearn: 0.3782636\ttotal: 365ms\tremaining: 3.83s\n",
            "87:\tlearn: 0.3776350\ttotal: 368ms\tremaining: 3.81s\n",
            "88:\tlearn: 0.3771178\ttotal: 371ms\tremaining: 3.8s\n",
            "89:\tlearn: 0.3765658\ttotal: 375ms\tremaining: 3.79s\n",
            "90:\tlearn: 0.3757027\ttotal: 378ms\tremaining: 3.78s\n",
            "91:\tlearn: 0.3741847\ttotal: 381ms\tremaining: 3.76s\n",
            "92:\tlearn: 0.3732506\ttotal: 385ms\tremaining: 3.75s\n",
            "93:\tlearn: 0.3723943\ttotal: 388ms\tremaining: 3.74s\n",
            "94:\tlearn: 0.3717449\ttotal: 396ms\tremaining: 3.77s\n",
            "95:\tlearn: 0.3705640\ttotal: 400ms\tremaining: 3.77s\n",
            "96:\tlearn: 0.3699011\ttotal: 404ms\tremaining: 3.76s\n",
            "97:\tlearn: 0.3689870\ttotal: 407ms\tremaining: 3.75s\n",
            "98:\tlearn: 0.3683789\ttotal: 410ms\tremaining: 3.73s\n",
            "99:\tlearn: 0.3668920\ttotal: 414ms\tremaining: 3.73s\n",
            "100:\tlearn: 0.3657375\ttotal: 418ms\tremaining: 3.72s\n",
            "101:\tlearn: 0.3647356\ttotal: 422ms\tremaining: 3.71s\n",
            "102:\tlearn: 0.3642395\ttotal: 425ms\tremaining: 3.7s\n",
            "103:\tlearn: 0.3633903\ttotal: 429ms\tremaining: 3.69s\n",
            "104:\tlearn: 0.3621166\ttotal: 432ms\tremaining: 3.68s\n",
            "105:\tlearn: 0.3615822\ttotal: 435ms\tremaining: 3.67s\n",
            "106:\tlearn: 0.3611019\ttotal: 439ms\tremaining: 3.66s\n",
            "107:\tlearn: 0.3602696\ttotal: 442ms\tremaining: 3.65s\n",
            "108:\tlearn: 0.3594577\ttotal: 446ms\tremaining: 3.65s\n",
            "109:\tlearn: 0.3586245\ttotal: 450ms\tremaining: 3.64s\n",
            "110:\tlearn: 0.3578964\ttotal: 453ms\tremaining: 3.63s\n",
            "111:\tlearn: 0.3570493\ttotal: 457ms\tremaining: 3.62s\n",
            "112:\tlearn: 0.3562037\ttotal: 461ms\tremaining: 3.62s\n",
            "113:\tlearn: 0.3555994\ttotal: 467ms\tremaining: 3.63s\n",
            "114:\tlearn: 0.3545117\ttotal: 474ms\tremaining: 3.65s\n",
            "115:\tlearn: 0.3536804\ttotal: 484ms\tremaining: 3.69s\n",
            "116:\tlearn: 0.3525691\ttotal: 489ms\tremaining: 3.69s\n",
            "117:\tlearn: 0.3516685\ttotal: 493ms\tremaining: 3.68s\n",
            "118:\tlearn: 0.3510058\ttotal: 497ms\tremaining: 3.68s\n",
            "119:\tlearn: 0.3503460\ttotal: 500ms\tremaining: 3.67s\n",
            "120:\tlearn: 0.3491983\ttotal: 504ms\tremaining: 3.66s\n",
            "121:\tlearn: 0.3482735\ttotal: 508ms\tremaining: 3.66s\n",
            "122:\tlearn: 0.3473472\ttotal: 512ms\tremaining: 3.65s\n",
            "123:\tlearn: 0.3467651\ttotal: 516ms\tremaining: 3.64s\n",
            "124:\tlearn: 0.3460138\ttotal: 519ms\tremaining: 3.63s\n",
            "125:\tlearn: 0.3454643\ttotal: 523ms\tremaining: 3.63s\n",
            "126:\tlearn: 0.3449312\ttotal: 527ms\tremaining: 3.62s\n",
            "127:\tlearn: 0.3443875\ttotal: 532ms\tremaining: 3.63s\n",
            "128:\tlearn: 0.3432420\ttotal: 536ms\tremaining: 3.62s\n",
            "129:\tlearn: 0.3426707\ttotal: 539ms\tremaining: 3.61s\n",
            "130:\tlearn: 0.3421525\ttotal: 542ms\tremaining: 3.6s\n",
            "131:\tlearn: 0.3414938\ttotal: 545ms\tremaining: 3.59s\n",
            "132:\tlearn: 0.3408816\ttotal: 549ms\tremaining: 3.58s\n",
            "133:\tlearn: 0.3401189\ttotal: 552ms\tremaining: 3.57s\n",
            "134:\tlearn: 0.3395852\ttotal: 556ms\tremaining: 3.56s\n",
            "135:\tlearn: 0.3385848\ttotal: 559ms\tremaining: 3.55s\n",
            "136:\tlearn: 0.3373718\ttotal: 562ms\tremaining: 3.54s\n",
            "137:\tlearn: 0.3367174\ttotal: 566ms\tremaining: 3.53s\n",
            "138:\tlearn: 0.3363031\ttotal: 569ms\tremaining: 3.53s\n",
            "139:\tlearn: 0.3354065\ttotal: 573ms\tremaining: 3.52s\n",
            "140:\tlearn: 0.3348028\ttotal: 576ms\tremaining: 3.51s\n",
            "141:\tlearn: 0.3343229\ttotal: 582ms\tremaining: 3.52s\n",
            "142:\tlearn: 0.3336167\ttotal: 587ms\tremaining: 3.52s\n",
            "143:\tlearn: 0.3325017\ttotal: 591ms\tremaining: 3.51s\n",
            "144:\tlearn: 0.3321715\ttotal: 595ms\tremaining: 3.51s\n",
            "145:\tlearn: 0.3314307\ttotal: 600ms\tremaining: 3.51s\n",
            "146:\tlearn: 0.3308328\ttotal: 604ms\tremaining: 3.5s\n",
            "147:\tlearn: 0.3302047\ttotal: 607ms\tremaining: 3.5s\n",
            "148:\tlearn: 0.3287097\ttotal: 611ms\tremaining: 3.49s\n",
            "149:\tlearn: 0.3281937\ttotal: 614ms\tremaining: 3.48s\n",
            "150:\tlearn: 0.3277593\ttotal: 618ms\tremaining: 3.47s\n",
            "151:\tlearn: 0.3272894\ttotal: 621ms\tremaining: 3.46s\n",
            "152:\tlearn: 0.3268637\ttotal: 624ms\tremaining: 3.46s\n",
            "153:\tlearn: 0.3261804\ttotal: 630ms\tremaining: 3.46s\n",
            "154:\tlearn: 0.3251029\ttotal: 644ms\tremaining: 3.51s\n",
            "155:\tlearn: 0.3244008\ttotal: 652ms\tremaining: 3.53s\n",
            "156:\tlearn: 0.3238094\ttotal: 656ms\tremaining: 3.52s\n",
            "157:\tlearn: 0.3230875\ttotal: 659ms\tremaining: 3.51s\n",
            "158:\tlearn: 0.3223378\ttotal: 663ms\tremaining: 3.5s\n",
            "159:\tlearn: 0.3217220\ttotal: 666ms\tremaining: 3.5s\n",
            "160:\tlearn: 0.3208945\ttotal: 670ms\tremaining: 3.49s\n",
            "161:\tlearn: 0.3202926\ttotal: 674ms\tremaining: 3.48s\n",
            "162:\tlearn: 0.3196836\ttotal: 677ms\tremaining: 3.48s\n",
            "163:\tlearn: 0.3191282\ttotal: 681ms\tremaining: 3.47s\n",
            "164:\tlearn: 0.3188209\ttotal: 685ms\tremaining: 3.46s\n",
            "165:\tlearn: 0.3179598\ttotal: 688ms\tremaining: 3.46s\n",
            "166:\tlearn: 0.3175491\ttotal: 692ms\tremaining: 3.45s\n",
            "167:\tlearn: 0.3170729\ttotal: 695ms\tremaining: 3.44s\n",
            "168:\tlearn: 0.3162407\ttotal: 699ms\tremaining: 3.44s\n",
            "169:\tlearn: 0.3157002\ttotal: 702ms\tremaining: 3.43s\n",
            "170:\tlearn: 0.3149422\ttotal: 706ms\tremaining: 3.42s\n",
            "171:\tlearn: 0.3142835\ttotal: 709ms\tremaining: 3.41s\n",
            "172:\tlearn: 0.3135766\ttotal: 713ms\tremaining: 3.41s\n",
            "173:\tlearn: 0.3133717\ttotal: 716ms\tremaining: 3.4s\n",
            "174:\tlearn: 0.3129226\ttotal: 720ms\tremaining: 3.39s\n",
            "175:\tlearn: 0.3121815\ttotal: 723ms\tremaining: 3.39s\n",
            "176:\tlearn: 0.3116227\ttotal: 727ms\tremaining: 3.38s\n",
            "177:\tlearn: 0.3108649\ttotal: 730ms\tremaining: 3.37s\n",
            "178:\tlearn: 0.3104695\ttotal: 733ms\tremaining: 3.36s\n",
            "179:\tlearn: 0.3101839\ttotal: 737ms\tremaining: 3.36s\n",
            "180:\tlearn: 0.3094818\ttotal: 740ms\tremaining: 3.35s\n",
            "181:\tlearn: 0.3086684\ttotal: 743ms\tremaining: 3.34s\n",
            "182:\tlearn: 0.3078883\ttotal: 747ms\tremaining: 3.33s\n",
            "183:\tlearn: 0.3074633\ttotal: 751ms\tremaining: 3.33s\n",
            "184:\tlearn: 0.3064986\ttotal: 754ms\tremaining: 3.32s\n",
            "185:\tlearn: 0.3058246\ttotal: 758ms\tremaining: 3.31s\n",
            "186:\tlearn: 0.3048931\ttotal: 761ms\tremaining: 3.31s\n",
            "187:\tlearn: 0.3046137\ttotal: 765ms\tremaining: 3.3s\n",
            "188:\tlearn: 0.3042773\ttotal: 768ms\tremaining: 3.29s\n",
            "189:\tlearn: 0.3037978\ttotal: 771ms\tremaining: 3.29s\n",
            "190:\tlearn: 0.3033693\ttotal: 776ms\tremaining: 3.29s\n",
            "191:\tlearn: 0.3029405\ttotal: 783ms\tremaining: 3.29s\n",
            "192:\tlearn: 0.3022776\ttotal: 786ms\tremaining: 3.29s\n",
            "193:\tlearn: 0.3015877\ttotal: 789ms\tremaining: 3.28s\n",
            "194:\tlearn: 0.3008229\ttotal: 793ms\tremaining: 3.27s\n",
            "195:\tlearn: 0.3000487\ttotal: 796ms\tremaining: 3.27s\n",
            "196:\tlearn: 0.2994820\ttotal: 800ms\tremaining: 3.26s\n",
            "197:\tlearn: 0.2991425\ttotal: 803ms\tremaining: 3.25s\n",
            "198:\tlearn: 0.2986767\ttotal: 807ms\tremaining: 3.25s\n",
            "199:\tlearn: 0.2979962\ttotal: 810ms\tremaining: 3.24s\n",
            "200:\tlearn: 0.2974289\ttotal: 814ms\tremaining: 3.23s\n",
            "201:\tlearn: 0.2967376\ttotal: 817ms\tremaining: 3.23s\n",
            "202:\tlearn: 0.2957920\ttotal: 820ms\tremaining: 3.22s\n",
            "203:\tlearn: 0.2950423\ttotal: 824ms\tremaining: 3.21s\n",
            "204:\tlearn: 0.2944703\ttotal: 828ms\tremaining: 3.21s\n",
            "205:\tlearn: 0.2938808\ttotal: 831ms\tremaining: 3.2s\n",
            "206:\tlearn: 0.2931490\ttotal: 835ms\tremaining: 3.2s\n",
            "207:\tlearn: 0.2925504\ttotal: 838ms\tremaining: 3.19s\n",
            "208:\tlearn: 0.2918580\ttotal: 841ms\tremaining: 3.18s\n",
            "209:\tlearn: 0.2913433\ttotal: 845ms\tremaining: 3.18s\n",
            "210:\tlearn: 0.2908492\ttotal: 848ms\tremaining: 3.17s\n",
            "211:\tlearn: 0.2901491\ttotal: 852ms\tremaining: 3.17s\n",
            "212:\tlearn: 0.2893238\ttotal: 855ms\tremaining: 3.16s\n",
            "213:\tlearn: 0.2888138\ttotal: 858ms\tremaining: 3.15s\n",
            "214:\tlearn: 0.2881020\ttotal: 862ms\tremaining: 3.15s\n",
            "215:\tlearn: 0.2873844\ttotal: 866ms\tremaining: 3.14s\n",
            "216:\tlearn: 0.2868437\ttotal: 869ms\tremaining: 3.13s\n",
            "217:\tlearn: 0.2861286\ttotal: 872ms\tremaining: 3.13s\n",
            "218:\tlearn: 0.2854519\ttotal: 876ms\tremaining: 3.12s\n",
            "219:\tlearn: 0.2848607\ttotal: 879ms\tremaining: 3.12s\n",
            "220:\tlearn: 0.2842554\ttotal: 883ms\tremaining: 3.11s\n",
            "221:\tlearn: 0.2837957\ttotal: 886ms\tremaining: 3.1s\n",
            "222:\tlearn: 0.2829604\ttotal: 889ms\tremaining: 3.1s\n",
            "223:\tlearn: 0.2824628\ttotal: 893ms\tremaining: 3.09s\n",
            "224:\tlearn: 0.2819871\ttotal: 896ms\tremaining: 3.09s\n",
            "225:\tlearn: 0.2816054\ttotal: 900ms\tremaining: 3.08s\n",
            "226:\tlearn: 0.2811783\ttotal: 903ms\tremaining: 3.08s\n",
            "227:\tlearn: 0.2804127\ttotal: 907ms\tremaining: 3.07s\n",
            "228:\tlearn: 0.2796622\ttotal: 910ms\tremaining: 3.06s\n",
            "229:\tlearn: 0.2792049\ttotal: 914ms\tremaining: 3.06s\n",
            "230:\tlearn: 0.2788286\ttotal: 921ms\tremaining: 3.06s\n",
            "231:\tlearn: 0.2782294\ttotal: 924ms\tremaining: 3.06s\n",
            "232:\tlearn: 0.2776597\ttotal: 928ms\tremaining: 3.05s\n",
            "233:\tlearn: 0.2772883\ttotal: 931ms\tremaining: 3.05s\n",
            "234:\tlearn: 0.2767929\ttotal: 935ms\tremaining: 3.04s\n",
            "235:\tlearn: 0.2759954\ttotal: 938ms\tremaining: 3.04s\n",
            "236:\tlearn: 0.2752173\ttotal: 942ms\tremaining: 3.03s\n",
            "237:\tlearn: 0.2747359\ttotal: 945ms\tremaining: 3.02s\n",
            "238:\tlearn: 0.2742567\ttotal: 948ms\tremaining: 3.02s\n",
            "239:\tlearn: 0.2736958\ttotal: 952ms\tremaining: 3.01s\n",
            "240:\tlearn: 0.2731508\ttotal: 955ms\tremaining: 3.01s\n",
            "241:\tlearn: 0.2728469\ttotal: 959ms\tremaining: 3s\n",
            "242:\tlearn: 0.2725443\ttotal: 962ms\tremaining: 3s\n",
            "243:\tlearn: 0.2720394\ttotal: 966ms\tremaining: 2.99s\n",
            "244:\tlearn: 0.2716964\ttotal: 970ms\tremaining: 2.99s\n",
            "245:\tlearn: 0.2710122\ttotal: 978ms\tremaining: 3s\n",
            "246:\tlearn: 0.2704451\ttotal: 983ms\tremaining: 3s\n",
            "247:\tlearn: 0.2699425\ttotal: 987ms\tremaining: 2.99s\n",
            "248:\tlearn: 0.2694873\ttotal: 990ms\tremaining: 2.99s\n",
            "249:\tlearn: 0.2689572\ttotal: 994ms\tremaining: 2.98s\n",
            "250:\tlearn: 0.2682164\ttotal: 997ms\tremaining: 2.98s\n",
            "251:\tlearn: 0.2677039\ttotal: 1s\tremaining: 2.97s\n",
            "252:\tlearn: 0.2673239\ttotal: 1s\tremaining: 2.96s\n",
            "253:\tlearn: 0.2669440\ttotal: 1.01s\tremaining: 2.96s\n",
            "254:\tlearn: 0.2666979\ttotal: 1.01s\tremaining: 2.95s\n",
            "255:\tlearn: 0.2664226\ttotal: 1.01s\tremaining: 2.95s\n",
            "256:\tlearn: 0.2661367\ttotal: 1.02s\tremaining: 2.94s\n",
            "257:\tlearn: 0.2657400\ttotal: 1.02s\tremaining: 2.94s\n",
            "258:\tlearn: 0.2652596\ttotal: 1.02s\tremaining: 2.93s\n",
            "259:\tlearn: 0.2646731\ttotal: 1.03s\tremaining: 2.92s\n",
            "260:\tlearn: 0.2640824\ttotal: 1.03s\tremaining: 2.92s\n",
            "261:\tlearn: 0.2636220\ttotal: 1.03s\tremaining: 2.92s\n",
            "262:\tlearn: 0.2632684\ttotal: 1.04s\tremaining: 2.91s\n",
            "263:\tlearn: 0.2627953\ttotal: 1.04s\tremaining: 2.9s\n",
            "264:\tlearn: 0.2623339\ttotal: 1.04s\tremaining: 2.9s\n",
            "265:\tlearn: 0.2616952\ttotal: 1.05s\tremaining: 2.89s\n",
            "266:\tlearn: 0.2612714\ttotal: 1.05s\tremaining: 2.89s\n",
            "267:\tlearn: 0.2605393\ttotal: 1.05s\tremaining: 2.88s\n",
            "268:\tlearn: 0.2601295\ttotal: 1.06s\tremaining: 2.88s\n",
            "269:\tlearn: 0.2599410\ttotal: 1.06s\tremaining: 2.87s\n",
            "270:\tlearn: 0.2593704\ttotal: 1.07s\tremaining: 2.87s\n",
            "271:\tlearn: 0.2588804\ttotal: 1.07s\tremaining: 2.86s\n",
            "272:\tlearn: 0.2582303\ttotal: 1.07s\tremaining: 2.86s\n",
            "273:\tlearn: 0.2579742\ttotal: 1.08s\tremaining: 2.85s\n",
            "274:\tlearn: 0.2575901\ttotal: 1.08s\tremaining: 2.85s\n",
            "275:\tlearn: 0.2570530\ttotal: 1.08s\tremaining: 2.85s\n",
            "276:\tlearn: 0.2566071\ttotal: 1.09s\tremaining: 2.84s\n",
            "277:\tlearn: 0.2561934\ttotal: 1.09s\tremaining: 2.83s\n",
            "278:\tlearn: 0.2557040\ttotal: 1.09s\tremaining: 2.83s\n",
            "279:\tlearn: 0.2549767\ttotal: 1.1s\tremaining: 2.83s\n",
            "280:\tlearn: 0.2544562\ttotal: 1.1s\tremaining: 2.82s\n",
            "281:\tlearn: 0.2540711\ttotal: 1.1s\tremaining: 2.81s\n",
            "282:\tlearn: 0.2537408\ttotal: 1.11s\tremaining: 2.81s\n",
            "283:\tlearn: 0.2533558\ttotal: 1.11s\tremaining: 2.8s\n",
            "284:\tlearn: 0.2530323\ttotal: 1.11s\tremaining: 2.8s\n",
            "285:\tlearn: 0.2523292\ttotal: 1.12s\tremaining: 2.79s\n",
            "286:\tlearn: 0.2518841\ttotal: 1.12s\tremaining: 2.79s\n",
            "287:\tlearn: 0.2516899\ttotal: 1.13s\tremaining: 2.78s\n",
            "288:\tlearn: 0.2513767\ttotal: 1.13s\tremaining: 2.78s\n",
            "289:\tlearn: 0.2508368\ttotal: 1.13s\tremaining: 2.77s\n",
            "290:\tlearn: 0.2505349\ttotal: 1.14s\tremaining: 2.77s\n",
            "291:\tlearn: 0.2501661\ttotal: 1.14s\tremaining: 2.77s\n",
            "292:\tlearn: 0.2494963\ttotal: 1.14s\tremaining: 2.76s\n",
            "293:\tlearn: 0.2490131\ttotal: 1.15s\tremaining: 2.75s\n",
            "294:\tlearn: 0.2486412\ttotal: 1.15s\tremaining: 2.75s\n",
            "295:\tlearn: 0.2478754\ttotal: 1.15s\tremaining: 2.75s\n",
            "296:\tlearn: 0.2475725\ttotal: 1.16s\tremaining: 2.74s\n",
            "297:\tlearn: 0.2471744\ttotal: 1.16s\tremaining: 2.73s\n",
            "298:\tlearn: 0.2467753\ttotal: 1.16s\tremaining: 2.73s\n",
            "299:\tlearn: 0.2463725\ttotal: 1.17s\tremaining: 2.73s\n",
            "300:\tlearn: 0.2461694\ttotal: 1.18s\tremaining: 2.73s\n",
            "301:\tlearn: 0.2456230\ttotal: 1.18s\tremaining: 2.73s\n",
            "302:\tlearn: 0.2449704\ttotal: 1.18s\tremaining: 2.72s\n",
            "303:\tlearn: 0.2445802\ttotal: 1.19s\tremaining: 2.71s\n",
            "304:\tlearn: 0.2443134\ttotal: 1.19s\tremaining: 2.71s\n",
            "305:\tlearn: 0.2437720\ttotal: 1.19s\tremaining: 2.71s\n",
            "306:\tlearn: 0.2434111\ttotal: 1.2s\tremaining: 2.7s\n",
            "307:\tlearn: 0.2428469\ttotal: 1.2s\tremaining: 2.69s\n",
            "308:\tlearn: 0.2425779\ttotal: 1.2s\tremaining: 2.69s\n",
            "309:\tlearn: 0.2419648\ttotal: 1.21s\tremaining: 2.69s\n",
            "310:\tlearn: 0.2413926\ttotal: 1.21s\tremaining: 2.68s\n",
            "311:\tlearn: 0.2406682\ttotal: 1.21s\tremaining: 2.68s\n",
            "312:\tlearn: 0.2403673\ttotal: 1.22s\tremaining: 2.67s\n",
            "313:\tlearn: 0.2399196\ttotal: 1.22s\tremaining: 2.67s\n",
            "314:\tlearn: 0.2395492\ttotal: 1.22s\tremaining: 2.66s\n",
            "315:\tlearn: 0.2391616\ttotal: 1.23s\tremaining: 2.66s\n",
            "316:\tlearn: 0.2388252\ttotal: 1.23s\tremaining: 2.65s\n",
            "317:\tlearn: 0.2384584\ttotal: 1.23s\tremaining: 2.65s\n",
            "318:\tlearn: 0.2380643\ttotal: 1.24s\tremaining: 2.64s\n",
            "319:\tlearn: 0.2374988\ttotal: 1.24s\tremaining: 2.64s\n",
            "320:\tlearn: 0.2370875\ttotal: 1.24s\tremaining: 2.63s\n",
            "321:\tlearn: 0.2365721\ttotal: 1.25s\tremaining: 2.63s\n",
            "322:\tlearn: 0.2359433\ttotal: 1.25s\tremaining: 2.63s\n",
            "323:\tlearn: 0.2357173\ttotal: 1.26s\tremaining: 2.62s\n",
            "324:\tlearn: 0.2351760\ttotal: 1.26s\tremaining: 2.62s\n",
            "325:\tlearn: 0.2348874\ttotal: 1.26s\tremaining: 2.61s\n",
            "326:\tlearn: 0.2345997\ttotal: 1.27s\tremaining: 2.61s\n",
            "327:\tlearn: 0.2340432\ttotal: 1.27s\tremaining: 2.6s\n",
            "328:\tlearn: 0.2335489\ttotal: 1.27s\tremaining: 2.6s\n",
            "329:\tlearn: 0.2331706\ttotal: 1.28s\tremaining: 2.59s\n",
            "330:\tlearn: 0.2324524\ttotal: 1.28s\tremaining: 2.59s\n",
            "331:\tlearn: 0.2320095\ttotal: 1.28s\tremaining: 2.58s\n",
            "332:\tlearn: 0.2315843\ttotal: 1.29s\tremaining: 2.58s\n",
            "333:\tlearn: 0.2310231\ttotal: 1.29s\tremaining: 2.57s\n",
            "334:\tlearn: 0.2308660\ttotal: 1.29s\tremaining: 2.57s\n",
            "335:\tlearn: 0.2302158\ttotal: 1.3s\tremaining: 2.56s\n",
            "336:\tlearn: 0.2298237\ttotal: 1.3s\tremaining: 2.56s\n",
            "337:\tlearn: 0.2294835\ttotal: 1.3s\tremaining: 2.55s\n",
            "338:\tlearn: 0.2290835\ttotal: 1.31s\tremaining: 2.55s\n",
            "339:\tlearn: 0.2287089\ttotal: 1.31s\tremaining: 2.54s\n",
            "340:\tlearn: 0.2281182\ttotal: 1.31s\tremaining: 2.54s\n",
            "341:\tlearn: 0.2278950\ttotal: 1.32s\tremaining: 2.53s\n",
            "342:\tlearn: 0.2275957\ttotal: 1.32s\tremaining: 2.53s\n",
            "343:\tlearn: 0.2270379\ttotal: 1.32s\tremaining: 2.52s\n",
            "344:\tlearn: 0.2265637\ttotal: 1.33s\tremaining: 2.52s\n",
            "345:\tlearn: 0.2259184\ttotal: 1.33s\tremaining: 2.52s\n",
            "346:\tlearn: 0.2256329\ttotal: 1.33s\tremaining: 2.51s\n",
            "347:\tlearn: 0.2254175\ttotal: 1.34s\tremaining: 2.5s\n",
            "348:\tlearn: 0.2250006\ttotal: 1.34s\tremaining: 2.5s\n",
            "349:\tlearn: 0.2246222\ttotal: 1.34s\tremaining: 2.5s\n",
            "350:\tlearn: 0.2243653\ttotal: 1.35s\tremaining: 2.49s\n",
            "351:\tlearn: 0.2240107\ttotal: 1.35s\tremaining: 2.49s\n",
            "352:\tlearn: 0.2237904\ttotal: 1.35s\tremaining: 2.48s\n",
            "353:\tlearn: 0.2233490\ttotal: 1.36s\tremaining: 2.48s\n",
            "354:\tlearn: 0.2230660\ttotal: 1.36s\tremaining: 2.47s\n",
            "355:\tlearn: 0.2226158\ttotal: 1.36s\tremaining: 2.47s\n",
            "356:\tlearn: 0.2224189\ttotal: 1.37s\tremaining: 2.47s\n",
            "357:\tlearn: 0.2221276\ttotal: 1.38s\tremaining: 2.47s\n",
            "358:\tlearn: 0.2215426\ttotal: 1.38s\tremaining: 2.46s\n",
            "359:\tlearn: 0.2211595\ttotal: 1.38s\tremaining: 2.46s\n",
            "360:\tlearn: 0.2207475\ttotal: 1.39s\tremaining: 2.45s\n",
            "361:\tlearn: 0.2203560\ttotal: 1.39s\tremaining: 2.45s\n",
            "362:\tlearn: 0.2200610\ttotal: 1.39s\tremaining: 2.44s\n",
            "363:\tlearn: 0.2197154\ttotal: 1.4s\tremaining: 2.44s\n",
            "364:\tlearn: 0.2193970\ttotal: 1.4s\tremaining: 2.43s\n",
            "365:\tlearn: 0.2191091\ttotal: 1.4s\tremaining: 2.43s\n",
            "366:\tlearn: 0.2189524\ttotal: 1.41s\tremaining: 2.42s\n",
            "367:\tlearn: 0.2185665\ttotal: 1.41s\tremaining: 2.42s\n",
            "368:\tlearn: 0.2181942\ttotal: 1.41s\tremaining: 2.42s\n",
            "369:\tlearn: 0.2176022\ttotal: 1.42s\tremaining: 2.41s\n",
            "370:\tlearn: 0.2171831\ttotal: 1.42s\tremaining: 2.41s\n",
            "371:\tlearn: 0.2168429\ttotal: 1.42s\tremaining: 2.4s\n",
            "372:\tlearn: 0.2165060\ttotal: 1.43s\tremaining: 2.4s\n",
            "373:\tlearn: 0.2160425\ttotal: 1.43s\tremaining: 2.39s\n",
            "374:\tlearn: 0.2156188\ttotal: 1.43s\tremaining: 2.39s\n",
            "375:\tlearn: 0.2149714\ttotal: 1.44s\tremaining: 2.39s\n",
            "376:\tlearn: 0.2145789\ttotal: 1.45s\tremaining: 2.39s\n",
            "377:\tlearn: 0.2140872\ttotal: 1.46s\tremaining: 2.39s\n",
            "378:\tlearn: 0.2136364\ttotal: 1.46s\tremaining: 2.39s\n",
            "379:\tlearn: 0.2132440\ttotal: 1.46s\tremaining: 2.38s\n",
            "380:\tlearn: 0.2131055\ttotal: 1.46s\tremaining: 2.38s\n",
            "381:\tlearn: 0.2126727\ttotal: 1.47s\tremaining: 2.37s\n",
            "382:\tlearn: 0.2123678\ttotal: 1.47s\tremaining: 2.37s\n",
            "383:\tlearn: 0.2120726\ttotal: 1.47s\tremaining: 2.36s\n",
            "384:\tlearn: 0.2117287\ttotal: 1.48s\tremaining: 2.36s\n",
            "385:\tlearn: 0.2114684\ttotal: 1.48s\tremaining: 2.36s\n",
            "386:\tlearn: 0.2112244\ttotal: 1.48s\tremaining: 2.35s\n",
            "387:\tlearn: 0.2109688\ttotal: 1.49s\tremaining: 2.35s\n",
            "388:\tlearn: 0.2105115\ttotal: 1.49s\tremaining: 2.34s\n",
            "389:\tlearn: 0.2099778\ttotal: 1.49s\tremaining: 2.34s\n",
            "390:\tlearn: 0.2096328\ttotal: 1.5s\tremaining: 2.33s\n",
            "391:\tlearn: 0.2092243\ttotal: 1.5s\tremaining: 2.33s\n",
            "392:\tlearn: 0.2088668\ttotal: 1.5s\tremaining: 2.32s\n",
            "393:\tlearn: 0.2084929\ttotal: 1.51s\tremaining: 2.32s\n",
            "394:\tlearn: 0.2083202\ttotal: 1.51s\tremaining: 2.31s\n",
            "395:\tlearn: 0.2079207\ttotal: 1.51s\tremaining: 2.31s\n",
            "396:\tlearn: 0.2075577\ttotal: 1.52s\tremaining: 2.3s\n",
            "397:\tlearn: 0.2074102\ttotal: 1.52s\tremaining: 2.3s\n",
            "398:\tlearn: 0.2071267\ttotal: 1.52s\tremaining: 2.29s\n",
            "399:\tlearn: 0.2068810\ttotal: 1.53s\tremaining: 2.29s\n",
            "400:\tlearn: 0.2066184\ttotal: 1.53s\tremaining: 2.28s\n",
            "401:\tlearn: 0.2062856\ttotal: 1.53s\tremaining: 2.28s\n",
            "402:\tlearn: 0.2059901\ttotal: 1.53s\tremaining: 2.27s\n",
            "403:\tlearn: 0.2056776\ttotal: 1.54s\tremaining: 2.27s\n",
            "404:\tlearn: 0.2053027\ttotal: 1.54s\tremaining: 2.27s\n",
            "405:\tlearn: 0.2050519\ttotal: 1.54s\tremaining: 2.26s\n",
            "406:\tlearn: 0.2045781\ttotal: 1.55s\tremaining: 2.25s\n",
            "407:\tlearn: 0.2040872\ttotal: 1.55s\tremaining: 2.25s\n",
            "408:\tlearn: 0.2038192\ttotal: 1.55s\tremaining: 2.25s\n",
            "409:\tlearn: 0.2034862\ttotal: 1.56s\tremaining: 2.24s\n",
            "410:\tlearn: 0.2032607\ttotal: 1.56s\tremaining: 2.24s\n",
            "411:\tlearn: 0.2031165\ttotal: 1.56s\tremaining: 2.23s\n",
            "412:\tlearn: 0.2028649\ttotal: 1.57s\tremaining: 2.23s\n",
            "413:\tlearn: 0.2027082\ttotal: 1.57s\tremaining: 2.23s\n",
            "414:\tlearn: 0.2024411\ttotal: 1.58s\tremaining: 2.22s\n",
            "415:\tlearn: 0.2021343\ttotal: 1.58s\tremaining: 2.22s\n",
            "416:\tlearn: 0.2018724\ttotal: 1.58s\tremaining: 2.21s\n",
            "417:\tlearn: 0.2015453\ttotal: 1.58s\tremaining: 2.21s\n",
            "418:\tlearn: 0.2012442\ttotal: 1.59s\tremaining: 2.2s\n",
            "419:\tlearn: 0.2008118\ttotal: 1.59s\tremaining: 2.2s\n",
            "420:\tlearn: 0.2006339\ttotal: 1.59s\tremaining: 2.19s\n",
            "421:\tlearn: 0.2002809\ttotal: 1.6s\tremaining: 2.19s\n",
            "422:\tlearn: 0.2000098\ttotal: 1.6s\tremaining: 2.18s\n",
            "423:\tlearn: 0.1998373\ttotal: 1.6s\tremaining: 2.18s\n",
            "424:\tlearn: 0.1995619\ttotal: 1.61s\tremaining: 2.17s\n",
            "425:\tlearn: 0.1994411\ttotal: 1.61s\tremaining: 2.17s\n",
            "426:\tlearn: 0.1991345\ttotal: 1.61s\tremaining: 2.17s\n",
            "427:\tlearn: 0.1988425\ttotal: 1.62s\tremaining: 2.16s\n",
            "428:\tlearn: 0.1984785\ttotal: 1.62s\tremaining: 2.16s\n",
            "429:\tlearn: 0.1981818\ttotal: 1.62s\tremaining: 2.15s\n",
            "430:\tlearn: 0.1979060\ttotal: 1.63s\tremaining: 2.15s\n",
            "431:\tlearn: 0.1975719\ttotal: 1.63s\tremaining: 2.15s\n",
            "432:\tlearn: 0.1973436\ttotal: 1.63s\tremaining: 2.14s\n",
            "433:\tlearn: 0.1970405\ttotal: 1.64s\tremaining: 2.14s\n",
            "434:\tlearn: 0.1966824\ttotal: 1.64s\tremaining: 2.13s\n",
            "435:\tlearn: 0.1964177\ttotal: 1.64s\tremaining: 2.13s\n",
            "436:\tlearn: 0.1961570\ttotal: 1.65s\tremaining: 2.12s\n",
            "437:\tlearn: 0.1958964\ttotal: 1.65s\tremaining: 2.12s\n",
            "438:\tlearn: 0.1957160\ttotal: 1.65s\tremaining: 2.11s\n",
            "439:\tlearn: 0.1952001\ttotal: 1.66s\tremaining: 2.11s\n",
            "440:\tlearn: 0.1949166\ttotal: 1.66s\tremaining: 2.1s\n",
            "441:\tlearn: 0.1946066\ttotal: 1.66s\tremaining: 2.1s\n",
            "442:\tlearn: 0.1943593\ttotal: 1.67s\tremaining: 2.1s\n",
            "443:\tlearn: 0.1939080\ttotal: 1.67s\tremaining: 2.09s\n",
            "444:\tlearn: 0.1935053\ttotal: 1.67s\tremaining: 2.09s\n",
            "445:\tlearn: 0.1933000\ttotal: 1.68s\tremaining: 2.08s\n",
            "446:\tlearn: 0.1929850\ttotal: 1.68s\tremaining: 2.08s\n",
            "447:\tlearn: 0.1926033\ttotal: 1.68s\tremaining: 2.07s\n",
            "448:\tlearn: 0.1921959\ttotal: 1.69s\tremaining: 2.07s\n",
            "449:\tlearn: 0.1919615\ttotal: 1.69s\tremaining: 2.06s\n",
            "450:\tlearn: 0.1914814\ttotal: 1.69s\tremaining: 2.06s\n",
            "451:\tlearn: 0.1912381\ttotal: 1.69s\tremaining: 2.05s\n",
            "452:\tlearn: 0.1907594\ttotal: 1.7s\tremaining: 2.05s\n",
            "453:\tlearn: 0.1900959\ttotal: 1.7s\tremaining: 2.04s\n",
            "454:\tlearn: 0.1897041\ttotal: 1.7s\tremaining: 2.04s\n",
            "455:\tlearn: 0.1892899\ttotal: 1.71s\tremaining: 2.04s\n",
            "456:\tlearn: 0.1890506\ttotal: 1.71s\tremaining: 2.03s\n",
            "457:\tlearn: 0.1888446\ttotal: 1.71s\tremaining: 2.03s\n",
            "458:\tlearn: 0.1886259\ttotal: 1.72s\tremaining: 2.02s\n",
            "459:\tlearn: 0.1882369\ttotal: 1.72s\tremaining: 2.02s\n",
            "460:\tlearn: 0.1878428\ttotal: 1.72s\tremaining: 2.01s\n",
            "461:\tlearn: 0.1874786\ttotal: 1.73s\tremaining: 2.01s\n",
            "462:\tlearn: 0.1869020\ttotal: 1.73s\tremaining: 2.01s\n",
            "463:\tlearn: 0.1865924\ttotal: 1.73s\tremaining: 2s\n",
            "464:\tlearn: 0.1863698\ttotal: 1.74s\tremaining: 2s\n",
            "465:\tlearn: 0.1860064\ttotal: 1.74s\tremaining: 1.99s\n",
            "466:\tlearn: 0.1855757\ttotal: 1.74s\tremaining: 1.99s\n",
            "467:\tlearn: 0.1852903\ttotal: 1.75s\tremaining: 1.98s\n",
            "468:\tlearn: 0.1851625\ttotal: 1.75s\tremaining: 1.98s\n",
            "469:\tlearn: 0.1850183\ttotal: 1.75s\tremaining: 1.98s\n",
            "470:\tlearn: 0.1848497\ttotal: 1.75s\tremaining: 1.97s\n",
            "471:\tlearn: 0.1847430\ttotal: 1.76s\tremaining: 1.97s\n",
            "472:\tlearn: 0.1845805\ttotal: 1.76s\tremaining: 1.96s\n",
            "473:\tlearn: 0.1842331\ttotal: 1.77s\tremaining: 1.96s\n",
            "474:\tlearn: 0.1839495\ttotal: 1.77s\tremaining: 1.96s\n",
            "475:\tlearn: 0.1836940\ttotal: 1.77s\tremaining: 1.95s\n",
            "476:\tlearn: 0.1833739\ttotal: 1.78s\tremaining: 1.95s\n",
            "477:\tlearn: 0.1828374\ttotal: 1.78s\tremaining: 1.95s\n",
            "478:\tlearn: 0.1824336\ttotal: 1.79s\tremaining: 1.94s\n",
            "479:\tlearn: 0.1822165\ttotal: 1.79s\tremaining: 1.94s\n",
            "480:\tlearn: 0.1820224\ttotal: 1.8s\tremaining: 1.94s\n",
            "481:\tlearn: 0.1815752\ttotal: 1.81s\tremaining: 1.94s\n",
            "482:\tlearn: 0.1812865\ttotal: 1.81s\tremaining: 1.94s\n",
            "483:\tlearn: 0.1809123\ttotal: 1.82s\tremaining: 1.94s\n",
            "484:\tlearn: 0.1807348\ttotal: 1.82s\tremaining: 1.93s\n",
            "485:\tlearn: 0.1804618\ttotal: 1.82s\tremaining: 1.93s\n",
            "486:\tlearn: 0.1803240\ttotal: 1.83s\tremaining: 1.92s\n",
            "487:\tlearn: 0.1801000\ttotal: 1.83s\tremaining: 1.92s\n",
            "488:\tlearn: 0.1797363\ttotal: 1.83s\tremaining: 1.92s\n",
            "489:\tlearn: 0.1792698\ttotal: 1.84s\tremaining: 1.91s\n",
            "490:\tlearn: 0.1788063\ttotal: 1.84s\tremaining: 1.91s\n",
            "491:\tlearn: 0.1785586\ttotal: 1.84s\tremaining: 1.9s\n",
            "492:\tlearn: 0.1783527\ttotal: 1.85s\tremaining: 1.9s\n",
            "493:\tlearn: 0.1781257\ttotal: 1.85s\tremaining: 1.89s\n",
            "494:\tlearn: 0.1778812\ttotal: 1.85s\tremaining: 1.89s\n",
            "495:\tlearn: 0.1776201\ttotal: 1.86s\tremaining: 1.89s\n",
            "496:\tlearn: 0.1773543\ttotal: 1.86s\tremaining: 1.88s\n",
            "497:\tlearn: 0.1768124\ttotal: 1.86s\tremaining: 1.88s\n",
            "498:\tlearn: 0.1764297\ttotal: 1.87s\tremaining: 1.87s\n",
            "499:\tlearn: 0.1761360\ttotal: 1.87s\tremaining: 1.87s\n",
            "500:\tlearn: 0.1758282\ttotal: 1.87s\tremaining: 1.86s\n",
            "501:\tlearn: 0.1754965\ttotal: 1.88s\tremaining: 1.86s\n",
            "502:\tlearn: 0.1753410\ttotal: 1.88s\tremaining: 1.86s\n",
            "503:\tlearn: 0.1751108\ttotal: 1.89s\tremaining: 1.85s\n",
            "504:\tlearn: 0.1747688\ttotal: 1.89s\tremaining: 1.85s\n",
            "505:\tlearn: 0.1745396\ttotal: 1.89s\tremaining: 1.85s\n",
            "506:\tlearn: 0.1743597\ttotal: 1.9s\tremaining: 1.84s\n",
            "507:\tlearn: 0.1739205\ttotal: 1.9s\tremaining: 1.84s\n",
            "508:\tlearn: 0.1737854\ttotal: 1.9s\tremaining: 1.84s\n",
            "509:\tlearn: 0.1736150\ttotal: 1.91s\tremaining: 1.83s\n",
            "510:\tlearn: 0.1733683\ttotal: 1.91s\tremaining: 1.83s\n",
            "511:\tlearn: 0.1730837\ttotal: 1.91s\tremaining: 1.82s\n",
            "512:\tlearn: 0.1728925\ttotal: 1.92s\tremaining: 1.82s\n",
            "513:\tlearn: 0.1727146\ttotal: 1.92s\tremaining: 1.81s\n",
            "514:\tlearn: 0.1726015\ttotal: 1.92s\tremaining: 1.81s\n",
            "515:\tlearn: 0.1723935\ttotal: 1.93s\tremaining: 1.81s\n",
            "516:\tlearn: 0.1721991\ttotal: 1.93s\tremaining: 1.8s\n",
            "517:\tlearn: 0.1718715\ttotal: 1.93s\tremaining: 1.8s\n",
            "518:\tlearn: 0.1716223\ttotal: 1.94s\tremaining: 1.8s\n",
            "519:\tlearn: 0.1712693\ttotal: 1.94s\tremaining: 1.79s\n",
            "520:\tlearn: 0.1711493\ttotal: 1.95s\tremaining: 1.79s\n",
            "521:\tlearn: 0.1707024\ttotal: 1.95s\tremaining: 1.78s\n",
            "522:\tlearn: 0.1702796\ttotal: 1.95s\tremaining: 1.78s\n",
            "523:\tlearn: 0.1699638\ttotal: 1.96s\tremaining: 1.78s\n",
            "524:\tlearn: 0.1698076\ttotal: 1.96s\tremaining: 1.77s\n",
            "525:\tlearn: 0.1696819\ttotal: 1.96s\tremaining: 1.77s\n",
            "526:\tlearn: 0.1694359\ttotal: 1.97s\tremaining: 1.77s\n",
            "527:\tlearn: 0.1693097\ttotal: 1.97s\tremaining: 1.76s\n",
            "528:\tlearn: 0.1690934\ttotal: 1.98s\tremaining: 1.76s\n",
            "529:\tlearn: 0.1689178\ttotal: 1.98s\tremaining: 1.76s\n",
            "530:\tlearn: 0.1686857\ttotal: 1.98s\tremaining: 1.75s\n",
            "531:\tlearn: 0.1685372\ttotal: 1.99s\tremaining: 1.75s\n",
            "532:\tlearn: 0.1683620\ttotal: 1.99s\tremaining: 1.74s\n",
            "533:\tlearn: 0.1681821\ttotal: 1.99s\tremaining: 1.74s\n",
            "534:\tlearn: 0.1680009\ttotal: 2s\tremaining: 1.74s\n",
            "535:\tlearn: 0.1678052\ttotal: 2s\tremaining: 1.73s\n",
            "536:\tlearn: 0.1675915\ttotal: 2s\tremaining: 1.73s\n",
            "537:\tlearn: 0.1673172\ttotal: 2.01s\tremaining: 1.72s\n",
            "538:\tlearn: 0.1670403\ttotal: 2.01s\tremaining: 1.72s\n",
            "539:\tlearn: 0.1668247\ttotal: 2.01s\tremaining: 1.72s\n",
            "540:\tlearn: 0.1665421\ttotal: 2.02s\tremaining: 1.71s\n",
            "541:\tlearn: 0.1663602\ttotal: 2.02s\tremaining: 1.71s\n",
            "542:\tlearn: 0.1662199\ttotal: 2.02s\tremaining: 1.7s\n",
            "543:\tlearn: 0.1660120\ttotal: 2.03s\tremaining: 1.7s\n",
            "544:\tlearn: 0.1656812\ttotal: 2.03s\tremaining: 1.7s\n",
            "545:\tlearn: 0.1654138\ttotal: 2.04s\tremaining: 1.69s\n",
            "546:\tlearn: 0.1652791\ttotal: 2.04s\tremaining: 1.69s\n",
            "547:\tlearn: 0.1651773\ttotal: 2.04s\tremaining: 1.68s\n",
            "548:\tlearn: 0.1650389\ttotal: 2.04s\tremaining: 1.68s\n",
            "549:\tlearn: 0.1647317\ttotal: 2.05s\tremaining: 1.68s\n",
            "550:\tlearn: 0.1644123\ttotal: 2.05s\tremaining: 1.67s\n",
            "551:\tlearn: 0.1643154\ttotal: 2.06s\tremaining: 1.67s\n",
            "552:\tlearn: 0.1641711\ttotal: 2.06s\tremaining: 1.66s\n",
            "553:\tlearn: 0.1638393\ttotal: 2.06s\tremaining: 1.66s\n",
            "554:\tlearn: 0.1636295\ttotal: 2.06s\tremaining: 1.66s\n",
            "555:\tlearn: 0.1634946\ttotal: 2.07s\tremaining: 1.65s\n",
            "556:\tlearn: 0.1633562\ttotal: 2.07s\tremaining: 1.65s\n",
            "557:\tlearn: 0.1632522\ttotal: 2.08s\tremaining: 1.65s\n",
            "558:\tlearn: 0.1631001\ttotal: 2.08s\tremaining: 1.64s\n",
            "559:\tlearn: 0.1630063\ttotal: 2.08s\tremaining: 1.64s\n",
            "560:\tlearn: 0.1628489\ttotal: 2.09s\tremaining: 1.63s\n",
            "561:\tlearn: 0.1625626\ttotal: 2.09s\tremaining: 1.63s\n",
            "562:\tlearn: 0.1624278\ttotal: 2.09s\tremaining: 1.63s\n",
            "563:\tlearn: 0.1621379\ttotal: 2.1s\tremaining: 1.62s\n",
            "564:\tlearn: 0.1620290\ttotal: 2.1s\tremaining: 1.62s\n",
            "565:\tlearn: 0.1618155\ttotal: 2.1s\tremaining: 1.61s\n",
            "566:\tlearn: 0.1615044\ttotal: 2.11s\tremaining: 1.61s\n",
            "567:\tlearn: 0.1612398\ttotal: 2.11s\tremaining: 1.61s\n",
            "568:\tlearn: 0.1610785\ttotal: 2.12s\tremaining: 1.6s\n",
            "569:\tlearn: 0.1609113\ttotal: 2.12s\tremaining: 1.6s\n",
            "570:\tlearn: 0.1607194\ttotal: 2.12s\tremaining: 1.59s\n",
            "571:\tlearn: 0.1605848\ttotal: 2.13s\tremaining: 1.59s\n",
            "572:\tlearn: 0.1603974\ttotal: 2.13s\tremaining: 1.59s\n",
            "573:\tlearn: 0.1602831\ttotal: 2.13s\tremaining: 1.58s\n",
            "574:\tlearn: 0.1600190\ttotal: 2.14s\tremaining: 1.58s\n",
            "575:\tlearn: 0.1596359\ttotal: 2.14s\tremaining: 1.57s\n",
            "576:\tlearn: 0.1594807\ttotal: 2.14s\tremaining: 1.57s\n",
            "577:\tlearn: 0.1592855\ttotal: 2.15s\tremaining: 1.57s\n",
            "578:\tlearn: 0.1589749\ttotal: 2.15s\tremaining: 1.56s\n",
            "579:\tlearn: 0.1588589\ttotal: 2.15s\tremaining: 1.56s\n",
            "580:\tlearn: 0.1587450\ttotal: 2.16s\tremaining: 1.56s\n",
            "581:\tlearn: 0.1583116\ttotal: 2.16s\tremaining: 1.55s\n",
            "582:\tlearn: 0.1581129\ttotal: 2.17s\tremaining: 1.55s\n",
            "583:\tlearn: 0.1579119\ttotal: 2.17s\tremaining: 1.55s\n",
            "584:\tlearn: 0.1577411\ttotal: 2.17s\tremaining: 1.54s\n",
            "585:\tlearn: 0.1575355\ttotal: 2.18s\tremaining: 1.54s\n",
            "586:\tlearn: 0.1574665\ttotal: 2.18s\tremaining: 1.53s\n",
            "587:\tlearn: 0.1573590\ttotal: 2.19s\tremaining: 1.53s\n",
            "588:\tlearn: 0.1572295\ttotal: 2.19s\tremaining: 1.53s\n",
            "589:\tlearn: 0.1570529\ttotal: 2.19s\tremaining: 1.52s\n",
            "590:\tlearn: 0.1568085\ttotal: 2.2s\tremaining: 1.52s\n",
            "591:\tlearn: 0.1564938\ttotal: 2.2s\tremaining: 1.52s\n",
            "592:\tlearn: 0.1562346\ttotal: 2.2s\tremaining: 1.51s\n",
            "593:\tlearn: 0.1559283\ttotal: 2.21s\tremaining: 1.51s\n",
            "594:\tlearn: 0.1557955\ttotal: 2.21s\tremaining: 1.5s\n",
            "595:\tlearn: 0.1556170\ttotal: 2.21s\tremaining: 1.5s\n",
            "596:\tlearn: 0.1555493\ttotal: 2.22s\tremaining: 1.5s\n",
            "597:\tlearn: 0.1551999\ttotal: 2.22s\tremaining: 1.49s\n",
            "598:\tlearn: 0.1549444\ttotal: 2.22s\tremaining: 1.49s\n",
            "599:\tlearn: 0.1547961\ttotal: 2.23s\tremaining: 1.49s\n",
            "600:\tlearn: 0.1546258\ttotal: 2.23s\tremaining: 1.48s\n",
            "601:\tlearn: 0.1545286\ttotal: 2.23s\tremaining: 1.48s\n",
            "602:\tlearn: 0.1543702\ttotal: 2.24s\tremaining: 1.47s\n",
            "603:\tlearn: 0.1543098\ttotal: 2.24s\tremaining: 1.47s\n",
            "604:\tlearn: 0.1540548\ttotal: 2.25s\tremaining: 1.47s\n",
            "605:\tlearn: 0.1538232\ttotal: 2.25s\tremaining: 1.46s\n",
            "606:\tlearn: 0.1536915\ttotal: 2.25s\tremaining: 1.46s\n",
            "607:\tlearn: 0.1533922\ttotal: 2.25s\tremaining: 1.45s\n",
            "608:\tlearn: 0.1531231\ttotal: 2.26s\tremaining: 1.45s\n",
            "609:\tlearn: 0.1530174\ttotal: 2.26s\tremaining: 1.45s\n",
            "610:\tlearn: 0.1527644\ttotal: 2.27s\tremaining: 1.44s\n",
            "611:\tlearn: 0.1525326\ttotal: 2.27s\tremaining: 1.44s\n",
            "612:\tlearn: 0.1524208\ttotal: 2.27s\tremaining: 1.44s\n",
            "613:\tlearn: 0.1522960\ttotal: 2.28s\tremaining: 1.43s\n",
            "614:\tlearn: 0.1520866\ttotal: 2.28s\tremaining: 1.43s\n",
            "615:\tlearn: 0.1519642\ttotal: 2.28s\tremaining: 1.42s\n",
            "616:\tlearn: 0.1518481\ttotal: 2.29s\tremaining: 1.42s\n",
            "617:\tlearn: 0.1516663\ttotal: 2.29s\tremaining: 1.42s\n",
            "618:\tlearn: 0.1515655\ttotal: 2.29s\tremaining: 1.41s\n",
            "619:\tlearn: 0.1513649\ttotal: 2.3s\tremaining: 1.41s\n",
            "620:\tlearn: 0.1510334\ttotal: 2.3s\tremaining: 1.4s\n",
            "621:\tlearn: 0.1508195\ttotal: 2.3s\tremaining: 1.4s\n",
            "622:\tlearn: 0.1507221\ttotal: 2.31s\tremaining: 1.4s\n",
            "623:\tlearn: 0.1505559\ttotal: 2.31s\tremaining: 1.39s\n",
            "624:\tlearn: 0.1504435\ttotal: 2.31s\tremaining: 1.39s\n",
            "625:\tlearn: 0.1502864\ttotal: 2.32s\tremaining: 1.38s\n",
            "626:\tlearn: 0.1501509\ttotal: 2.32s\tremaining: 1.38s\n",
            "627:\tlearn: 0.1500132\ttotal: 2.32s\tremaining: 1.38s\n",
            "628:\tlearn: 0.1498643\ttotal: 2.33s\tremaining: 1.37s\n",
            "629:\tlearn: 0.1497925\ttotal: 2.33s\tremaining: 1.37s\n",
            "630:\tlearn: 0.1496899\ttotal: 2.33s\tremaining: 1.36s\n",
            "631:\tlearn: 0.1496034\ttotal: 2.34s\tremaining: 1.36s\n",
            "632:\tlearn: 0.1494331\ttotal: 2.34s\tremaining: 1.36s\n",
            "633:\tlearn: 0.1491914\ttotal: 2.34s\tremaining: 1.35s\n",
            "634:\tlearn: 0.1488535\ttotal: 2.35s\tremaining: 1.35s\n",
            "635:\tlearn: 0.1487677\ttotal: 2.35s\tremaining: 1.34s\n",
            "636:\tlearn: 0.1484169\ttotal: 2.35s\tremaining: 1.34s\n",
            "637:\tlearn: 0.1481778\ttotal: 2.36s\tremaining: 1.34s\n",
            "638:\tlearn: 0.1479749\ttotal: 2.36s\tremaining: 1.33s\n",
            "639:\tlearn: 0.1478124\ttotal: 2.37s\tremaining: 1.33s\n",
            "640:\tlearn: 0.1477086\ttotal: 2.37s\tremaining: 1.33s\n",
            "641:\tlearn: 0.1476256\ttotal: 2.37s\tremaining: 1.32s\n",
            "642:\tlearn: 0.1475231\ttotal: 2.38s\tremaining: 1.32s\n",
            "643:\tlearn: 0.1474249\ttotal: 2.38s\tremaining: 1.32s\n",
            "644:\tlearn: 0.1472523\ttotal: 2.38s\tremaining: 1.31s\n",
            "645:\tlearn: 0.1471729\ttotal: 2.39s\tremaining: 1.31s\n",
            "646:\tlearn: 0.1470060\ttotal: 2.39s\tremaining: 1.3s\n",
            "647:\tlearn: 0.1467620\ttotal: 2.39s\tremaining: 1.3s\n",
            "648:\tlearn: 0.1466656\ttotal: 2.4s\tremaining: 1.3s\n",
            "649:\tlearn: 0.1463562\ttotal: 2.4s\tremaining: 1.29s\n",
            "650:\tlearn: 0.1461702\ttotal: 2.4s\tremaining: 1.29s\n",
            "651:\tlearn: 0.1461236\ttotal: 2.41s\tremaining: 1.28s\n",
            "652:\tlearn: 0.1458553\ttotal: 2.41s\tremaining: 1.28s\n",
            "653:\tlearn: 0.1456891\ttotal: 2.41s\tremaining: 1.28s\n",
            "654:\tlearn: 0.1455613\ttotal: 2.42s\tremaining: 1.27s\n",
            "655:\tlearn: 0.1453054\ttotal: 2.43s\tremaining: 1.27s\n",
            "656:\tlearn: 0.1451495\ttotal: 2.44s\tremaining: 1.27s\n",
            "657:\tlearn: 0.1449200\ttotal: 2.44s\tremaining: 1.27s\n",
            "658:\tlearn: 0.1448283\ttotal: 2.44s\tremaining: 1.26s\n",
            "659:\tlearn: 0.1444095\ttotal: 2.44s\tremaining: 1.26s\n",
            "660:\tlearn: 0.1442482\ttotal: 2.45s\tremaining: 1.25s\n",
            "661:\tlearn: 0.1440183\ttotal: 2.45s\tremaining: 1.25s\n",
            "662:\tlearn: 0.1436867\ttotal: 2.45s\tremaining: 1.25s\n",
            "663:\tlearn: 0.1435527\ttotal: 2.46s\tremaining: 1.24s\n",
            "664:\tlearn: 0.1433640\ttotal: 2.46s\tremaining: 1.24s\n",
            "665:\tlearn: 0.1432385\ttotal: 2.46s\tremaining: 1.24s\n",
            "666:\tlearn: 0.1431935\ttotal: 2.47s\tremaining: 1.23s\n",
            "667:\tlearn: 0.1430235\ttotal: 2.47s\tremaining: 1.23s\n",
            "668:\tlearn: 0.1426972\ttotal: 2.47s\tremaining: 1.22s\n",
            "669:\tlearn: 0.1424609\ttotal: 2.48s\tremaining: 1.22s\n",
            "670:\tlearn: 0.1422719\ttotal: 2.48s\tremaining: 1.22s\n",
            "671:\tlearn: 0.1421542\ttotal: 2.48s\tremaining: 1.21s\n",
            "672:\tlearn: 0.1418695\ttotal: 2.49s\tremaining: 1.21s\n",
            "673:\tlearn: 0.1416281\ttotal: 2.49s\tremaining: 1.2s\n",
            "674:\tlearn: 0.1413458\ttotal: 2.49s\tremaining: 1.2s\n",
            "675:\tlearn: 0.1411944\ttotal: 2.5s\tremaining: 1.2s\n",
            "676:\tlearn: 0.1410212\ttotal: 2.5s\tremaining: 1.19s\n",
            "677:\tlearn: 0.1407511\ttotal: 2.5s\tremaining: 1.19s\n",
            "678:\tlearn: 0.1405147\ttotal: 2.51s\tremaining: 1.19s\n",
            "679:\tlearn: 0.1404213\ttotal: 2.51s\tremaining: 1.18s\n",
            "680:\tlearn: 0.1402222\ttotal: 2.51s\tremaining: 1.18s\n",
            "681:\tlearn: 0.1400740\ttotal: 2.52s\tremaining: 1.17s\n",
            "682:\tlearn: 0.1397913\ttotal: 2.52s\tremaining: 1.17s\n",
            "683:\tlearn: 0.1396203\ttotal: 2.52s\tremaining: 1.17s\n",
            "684:\tlearn: 0.1395107\ttotal: 2.53s\tremaining: 1.16s\n",
            "685:\tlearn: 0.1393895\ttotal: 2.53s\tremaining: 1.16s\n",
            "686:\tlearn: 0.1391329\ttotal: 2.53s\tremaining: 1.15s\n",
            "687:\tlearn: 0.1389198\ttotal: 2.54s\tremaining: 1.15s\n",
            "688:\tlearn: 0.1388205\ttotal: 2.54s\tremaining: 1.15s\n",
            "689:\tlearn: 0.1385470\ttotal: 2.54s\tremaining: 1.14s\n",
            "690:\tlearn: 0.1383889\ttotal: 2.55s\tremaining: 1.14s\n",
            "691:\tlearn: 0.1382407\ttotal: 2.55s\tremaining: 1.14s\n",
            "692:\tlearn: 0.1380736\ttotal: 2.55s\tremaining: 1.13s\n",
            "693:\tlearn: 0.1379309\ttotal: 2.56s\tremaining: 1.13s\n",
            "694:\tlearn: 0.1378197\ttotal: 2.56s\tremaining: 1.13s\n",
            "695:\tlearn: 0.1377547\ttotal: 2.57s\tremaining: 1.12s\n",
            "696:\tlearn: 0.1376929\ttotal: 2.57s\tremaining: 1.12s\n",
            "697:\tlearn: 0.1374921\ttotal: 2.57s\tremaining: 1.11s\n",
            "698:\tlearn: 0.1373192\ttotal: 2.58s\tremaining: 1.11s\n",
            "699:\tlearn: 0.1372468\ttotal: 2.58s\tremaining: 1.11s\n",
            "700:\tlearn: 0.1370810\ttotal: 2.58s\tremaining: 1.1s\n",
            "701:\tlearn: 0.1369612\ttotal: 2.59s\tremaining: 1.1s\n",
            "702:\tlearn: 0.1368490\ttotal: 2.59s\tremaining: 1.09s\n",
            "703:\tlearn: 0.1367009\ttotal: 2.59s\tremaining: 1.09s\n",
            "704:\tlearn: 0.1365486\ttotal: 2.6s\tremaining: 1.09s\n",
            "705:\tlearn: 0.1363512\ttotal: 2.6s\tremaining: 1.08s\n",
            "706:\tlearn: 0.1361370\ttotal: 2.6s\tremaining: 1.08s\n",
            "707:\tlearn: 0.1359647\ttotal: 2.61s\tremaining: 1.07s\n",
            "708:\tlearn: 0.1358217\ttotal: 2.61s\tremaining: 1.07s\n",
            "709:\tlearn: 0.1356140\ttotal: 2.62s\tremaining: 1.07s\n",
            "710:\tlearn: 0.1354623\ttotal: 2.62s\tremaining: 1.06s\n",
            "711:\tlearn: 0.1353019\ttotal: 2.62s\tremaining: 1.06s\n",
            "712:\tlearn: 0.1351347\ttotal: 2.63s\tremaining: 1.06s\n",
            "713:\tlearn: 0.1348240\ttotal: 2.63s\tremaining: 1.05s\n",
            "714:\tlearn: 0.1345808\ttotal: 2.63s\tremaining: 1.05s\n",
            "715:\tlearn: 0.1344179\ttotal: 2.64s\tremaining: 1.04s\n",
            "716:\tlearn: 0.1343279\ttotal: 2.64s\tremaining: 1.04s\n",
            "717:\tlearn: 0.1340712\ttotal: 2.64s\tremaining: 1.04s\n",
            "718:\tlearn: 0.1338979\ttotal: 2.65s\tremaining: 1.03s\n",
            "719:\tlearn: 0.1337471\ttotal: 2.65s\tremaining: 1.03s\n",
            "720:\tlearn: 0.1334948\ttotal: 2.65s\tremaining: 1.03s\n",
            "721:\tlearn: 0.1333881\ttotal: 2.66s\tremaining: 1.02s\n",
            "722:\tlearn: 0.1332843\ttotal: 2.66s\tremaining: 1.02s\n",
            "723:\tlearn: 0.1331561\ttotal: 2.66s\tremaining: 1.01s\n",
            "724:\tlearn: 0.1329854\ttotal: 2.67s\tremaining: 1.01s\n",
            "725:\tlearn: 0.1329097\ttotal: 2.67s\tremaining: 1.01s\n",
            "726:\tlearn: 0.1327857\ttotal: 2.67s\tremaining: 1s\n",
            "727:\tlearn: 0.1326634\ttotal: 2.68s\tremaining: 1s\n",
            "728:\tlearn: 0.1325658\ttotal: 2.68s\tremaining: 996ms\n",
            "729:\tlearn: 0.1323949\ttotal: 2.68s\tremaining: 992ms\n",
            "730:\tlearn: 0.1322611\ttotal: 2.69s\tremaining: 989ms\n",
            "731:\tlearn: 0.1321228\ttotal: 2.69s\tremaining: 985ms\n",
            "732:\tlearn: 0.1319953\ttotal: 2.69s\tremaining: 981ms\n",
            "733:\tlearn: 0.1318731\ttotal: 2.7s\tremaining: 977ms\n",
            "734:\tlearn: 0.1317508\ttotal: 2.7s\tremaining: 974ms\n",
            "735:\tlearn: 0.1316483\ttotal: 2.7s\tremaining: 970ms\n",
            "736:\tlearn: 0.1315266\ttotal: 2.71s\tremaining: 966ms\n",
            "737:\tlearn: 0.1314572\ttotal: 2.71s\tremaining: 962ms\n",
            "738:\tlearn: 0.1312709\ttotal: 2.71s\tremaining: 958ms\n",
            "739:\tlearn: 0.1311656\ttotal: 2.72s\tremaining: 954ms\n",
            "740:\tlearn: 0.1310870\ttotal: 2.72s\tremaining: 950ms\n",
            "741:\tlearn: 0.1310496\ttotal: 2.72s\tremaining: 947ms\n",
            "742:\tlearn: 0.1309658\ttotal: 2.73s\tremaining: 943ms\n",
            "743:\tlearn: 0.1307949\ttotal: 2.73s\tremaining: 939ms\n",
            "744:\tlearn: 0.1306037\ttotal: 2.73s\tremaining: 935ms\n",
            "745:\tlearn: 0.1303561\ttotal: 2.73s\tremaining: 931ms\n",
            "746:\tlearn: 0.1302012\ttotal: 2.74s\tremaining: 927ms\n",
            "747:\tlearn: 0.1300111\ttotal: 2.74s\tremaining: 924ms\n",
            "748:\tlearn: 0.1298852\ttotal: 2.74s\tremaining: 920ms\n",
            "749:\tlearn: 0.1297316\ttotal: 2.75s\tremaining: 916ms\n",
            "750:\tlearn: 0.1295731\ttotal: 2.75s\tremaining: 912ms\n",
            "751:\tlearn: 0.1293332\ttotal: 2.75s\tremaining: 909ms\n",
            "752:\tlearn: 0.1292349\ttotal: 2.76s\tremaining: 907ms\n",
            "753:\tlearn: 0.1290261\ttotal: 2.77s\tremaining: 903ms\n",
            "754:\tlearn: 0.1288854\ttotal: 2.77s\tremaining: 899ms\n",
            "755:\tlearn: 0.1287788\ttotal: 2.77s\tremaining: 895ms\n",
            "756:\tlearn: 0.1286329\ttotal: 2.78s\tremaining: 892ms\n",
            "757:\tlearn: 0.1284891\ttotal: 2.78s\tremaining: 888ms\n",
            "758:\tlearn: 0.1283828\ttotal: 2.78s\tremaining: 884ms\n",
            "759:\tlearn: 0.1283197\ttotal: 2.79s\tremaining: 880ms\n",
            "760:\tlearn: 0.1282543\ttotal: 2.79s\tremaining: 876ms\n",
            "761:\tlearn: 0.1281864\ttotal: 2.79s\tremaining: 873ms\n",
            "762:\tlearn: 0.1280843\ttotal: 2.8s\tremaining: 869ms\n",
            "763:\tlearn: 0.1280265\ttotal: 2.8s\tremaining: 865ms\n",
            "764:\tlearn: 0.1279112\ttotal: 2.8s\tremaining: 861ms\n",
            "765:\tlearn: 0.1277597\ttotal: 2.81s\tremaining: 857ms\n",
            "766:\tlearn: 0.1275815\ttotal: 2.81s\tremaining: 854ms\n",
            "767:\tlearn: 0.1274657\ttotal: 2.81s\tremaining: 850ms\n",
            "768:\tlearn: 0.1273417\ttotal: 2.82s\tremaining: 846ms\n",
            "769:\tlearn: 0.1272459\ttotal: 2.82s\tremaining: 842ms\n",
            "770:\tlearn: 0.1271788\ttotal: 2.82s\tremaining: 839ms\n",
            "771:\tlearn: 0.1270179\ttotal: 2.83s\tremaining: 835ms\n",
            "772:\tlearn: 0.1268609\ttotal: 2.83s\tremaining: 831ms\n",
            "773:\tlearn: 0.1267540\ttotal: 2.83s\tremaining: 827ms\n",
            "774:\tlearn: 0.1266097\ttotal: 2.84s\tremaining: 823ms\n",
            "775:\tlearn: 0.1264453\ttotal: 2.84s\tremaining: 820ms\n",
            "776:\tlearn: 0.1263155\ttotal: 2.84s\tremaining: 816ms\n",
            "777:\tlearn: 0.1262134\ttotal: 2.85s\tremaining: 812ms\n",
            "778:\tlearn: 0.1259651\ttotal: 2.85s\tremaining: 809ms\n",
            "779:\tlearn: 0.1257319\ttotal: 2.85s\tremaining: 805ms\n",
            "780:\tlearn: 0.1255921\ttotal: 2.86s\tremaining: 801ms\n",
            "781:\tlearn: 0.1254754\ttotal: 2.86s\tremaining: 797ms\n",
            "782:\tlearn: 0.1253321\ttotal: 2.86s\tremaining: 793ms\n",
            "783:\tlearn: 0.1252166\ttotal: 2.87s\tremaining: 790ms\n",
            "784:\tlearn: 0.1250984\ttotal: 2.87s\tremaining: 786ms\n",
            "785:\tlearn: 0.1250094\ttotal: 2.87s\tremaining: 782ms\n",
            "786:\tlearn: 0.1247881\ttotal: 2.88s\tremaining: 778ms\n",
            "787:\tlearn: 0.1245661\ttotal: 2.88s\tremaining: 775ms\n",
            "788:\tlearn: 0.1244245\ttotal: 2.88s\tremaining: 771ms\n",
            "789:\tlearn: 0.1242223\ttotal: 2.89s\tremaining: 767ms\n",
            "790:\tlearn: 0.1240253\ttotal: 2.89s\tremaining: 764ms\n",
            "791:\tlearn: 0.1239273\ttotal: 2.89s\tremaining: 760ms\n",
            "792:\tlearn: 0.1237814\ttotal: 2.9s\tremaining: 756ms\n",
            "793:\tlearn: 0.1236303\ttotal: 2.9s\tremaining: 753ms\n",
            "794:\tlearn: 0.1235387\ttotal: 2.9s\tremaining: 749ms\n",
            "795:\tlearn: 0.1234317\ttotal: 2.91s\tremaining: 745ms\n",
            "796:\tlearn: 0.1233718\ttotal: 2.91s\tremaining: 741ms\n",
            "797:\tlearn: 0.1232450\ttotal: 2.91s\tremaining: 738ms\n",
            "798:\tlearn: 0.1231639\ttotal: 2.92s\tremaining: 734ms\n",
            "799:\tlearn: 0.1229972\ttotal: 2.92s\tremaining: 730ms\n",
            "800:\tlearn: 0.1227983\ttotal: 2.92s\tremaining: 727ms\n",
            "801:\tlearn: 0.1227429\ttotal: 2.93s\tremaining: 723ms\n",
            "802:\tlearn: 0.1226423\ttotal: 2.93s\tremaining: 719ms\n",
            "803:\tlearn: 0.1224864\ttotal: 2.93s\tremaining: 715ms\n",
            "804:\tlearn: 0.1220988\ttotal: 2.94s\tremaining: 712ms\n",
            "805:\tlearn: 0.1219975\ttotal: 2.94s\tremaining: 708ms\n",
            "806:\tlearn: 0.1217647\ttotal: 2.94s\tremaining: 704ms\n",
            "807:\tlearn: 0.1216431\ttotal: 2.95s\tremaining: 701ms\n",
            "808:\tlearn: 0.1215228\ttotal: 2.95s\tremaining: 697ms\n",
            "809:\tlearn: 0.1213435\ttotal: 2.95s\tremaining: 693ms\n",
            "810:\tlearn: 0.1212098\ttotal: 2.96s\tremaining: 689ms\n",
            "811:\tlearn: 0.1211612\ttotal: 2.96s\tremaining: 686ms\n",
            "812:\tlearn: 0.1209938\ttotal: 2.97s\tremaining: 683ms\n",
            "813:\tlearn: 0.1208649\ttotal: 2.97s\tremaining: 679ms\n",
            "814:\tlearn: 0.1207609\ttotal: 2.97s\tremaining: 675ms\n",
            "815:\tlearn: 0.1206629\ttotal: 2.98s\tremaining: 671ms\n",
            "816:\tlearn: 0.1205791\ttotal: 2.98s\tremaining: 668ms\n",
            "817:\tlearn: 0.1204673\ttotal: 2.98s\tremaining: 664ms\n",
            "818:\tlearn: 0.1203096\ttotal: 2.99s\tremaining: 661ms\n",
            "819:\tlearn: 0.1201944\ttotal: 2.99s\tremaining: 657ms\n",
            "820:\tlearn: 0.1200835\ttotal: 3s\tremaining: 653ms\n",
            "821:\tlearn: 0.1199934\ttotal: 3s\tremaining: 649ms\n",
            "822:\tlearn: 0.1198962\ttotal: 3s\tremaining: 646ms\n",
            "823:\tlearn: 0.1197682\ttotal: 3s\tremaining: 642ms\n",
            "824:\tlearn: 0.1196607\ttotal: 3.01s\tremaining: 638ms\n",
            "825:\tlearn: 0.1195587\ttotal: 3.01s\tremaining: 634ms\n",
            "826:\tlearn: 0.1194443\ttotal: 3.02s\tremaining: 631ms\n",
            "827:\tlearn: 0.1192473\ttotal: 3.02s\tremaining: 627ms\n",
            "828:\tlearn: 0.1191063\ttotal: 3.02s\tremaining: 623ms\n",
            "829:\tlearn: 0.1189721\ttotal: 3.02s\tremaining: 620ms\n",
            "830:\tlearn: 0.1188323\ttotal: 3.03s\tremaining: 616ms\n",
            "831:\tlearn: 0.1187297\ttotal: 3.03s\tremaining: 612ms\n",
            "832:\tlearn: 0.1186210\ttotal: 3.03s\tremaining: 608ms\n",
            "833:\tlearn: 0.1185475\ttotal: 3.04s\tremaining: 605ms\n",
            "834:\tlearn: 0.1184084\ttotal: 3.04s\tremaining: 601ms\n",
            "835:\tlearn: 0.1182773\ttotal: 3.04s\tremaining: 597ms\n",
            "836:\tlearn: 0.1181810\ttotal: 3.05s\tremaining: 593ms\n",
            "837:\tlearn: 0.1180280\ttotal: 3.05s\tremaining: 590ms\n",
            "838:\tlearn: 0.1178952\ttotal: 3.05s\tremaining: 586ms\n",
            "839:\tlearn: 0.1178265\ttotal: 3.06s\tremaining: 582ms\n",
            "840:\tlearn: 0.1177066\ttotal: 3.06s\tremaining: 579ms\n",
            "841:\tlearn: 0.1175889\ttotal: 3.06s\tremaining: 575ms\n",
            "842:\tlearn: 0.1174498\ttotal: 3.07s\tremaining: 571ms\n",
            "843:\tlearn: 0.1173201\ttotal: 3.07s\tremaining: 568ms\n",
            "844:\tlearn: 0.1171525\ttotal: 3.07s\tremaining: 564ms\n",
            "845:\tlearn: 0.1170119\ttotal: 3.08s\tremaining: 560ms\n",
            "846:\tlearn: 0.1169143\ttotal: 3.08s\tremaining: 557ms\n",
            "847:\tlearn: 0.1167795\ttotal: 3.08s\tremaining: 553ms\n",
            "848:\tlearn: 0.1165846\ttotal: 3.09s\tremaining: 549ms\n",
            "849:\tlearn: 0.1165271\ttotal: 3.09s\tremaining: 546ms\n",
            "850:\tlearn: 0.1163834\ttotal: 3.09s\tremaining: 542ms\n",
            "851:\tlearn: 0.1162638\ttotal: 3.1s\tremaining: 538ms\n",
            "852:\tlearn: 0.1161602\ttotal: 3.1s\tremaining: 535ms\n",
            "853:\tlearn: 0.1160551\ttotal: 3.1s\tremaining: 531ms\n",
            "854:\tlearn: 0.1158533\ttotal: 3.11s\tremaining: 527ms\n",
            "855:\tlearn: 0.1156659\ttotal: 3.11s\tremaining: 523ms\n",
            "856:\tlearn: 0.1153819\ttotal: 3.11s\tremaining: 520ms\n",
            "857:\tlearn: 0.1152728\ttotal: 3.12s\tremaining: 516ms\n",
            "858:\tlearn: 0.1150610\ttotal: 3.12s\tremaining: 512ms\n",
            "859:\tlearn: 0.1148905\ttotal: 3.13s\tremaining: 509ms\n",
            "860:\tlearn: 0.1147290\ttotal: 3.13s\tremaining: 505ms\n",
            "861:\tlearn: 0.1145779\ttotal: 3.13s\tremaining: 501ms\n",
            "862:\tlearn: 0.1144756\ttotal: 3.13s\tremaining: 498ms\n",
            "863:\tlearn: 0.1144092\ttotal: 3.14s\tremaining: 494ms\n",
            "864:\tlearn: 0.1142466\ttotal: 3.14s\tremaining: 490ms\n",
            "865:\tlearn: 0.1140974\ttotal: 3.15s\tremaining: 487ms\n",
            "866:\tlearn: 0.1140422\ttotal: 3.15s\tremaining: 483ms\n",
            "867:\tlearn: 0.1137680\ttotal: 3.15s\tremaining: 479ms\n",
            "868:\tlearn: 0.1135972\ttotal: 3.16s\tremaining: 476ms\n",
            "869:\tlearn: 0.1134264\ttotal: 3.16s\tremaining: 473ms\n",
            "870:\tlearn: 0.1132397\ttotal: 3.17s\tremaining: 469ms\n",
            "871:\tlearn: 0.1130550\ttotal: 3.17s\tremaining: 466ms\n",
            "872:\tlearn: 0.1129436\ttotal: 3.17s\tremaining: 462ms\n",
            "873:\tlearn: 0.1127415\ttotal: 3.18s\tremaining: 458ms\n",
            "874:\tlearn: 0.1126257\ttotal: 3.18s\tremaining: 455ms\n",
            "875:\tlearn: 0.1125200\ttotal: 3.19s\tremaining: 451ms\n",
            "876:\tlearn: 0.1124200\ttotal: 3.19s\tremaining: 447ms\n",
            "877:\tlearn: 0.1122423\ttotal: 3.19s\tremaining: 444ms\n",
            "878:\tlearn: 0.1121556\ttotal: 3.2s\tremaining: 440ms\n",
            "879:\tlearn: 0.1120465\ttotal: 3.2s\tremaining: 436ms\n",
            "880:\tlearn: 0.1119495\ttotal: 3.2s\tremaining: 433ms\n",
            "881:\tlearn: 0.1117889\ttotal: 3.21s\tremaining: 429ms\n",
            "882:\tlearn: 0.1115847\ttotal: 3.21s\tremaining: 425ms\n",
            "883:\tlearn: 0.1114386\ttotal: 3.21s\tremaining: 422ms\n",
            "884:\tlearn: 0.1113278\ttotal: 3.22s\tremaining: 418ms\n",
            "885:\tlearn: 0.1111851\ttotal: 3.22s\tremaining: 414ms\n",
            "886:\tlearn: 0.1110635\ttotal: 3.22s\tremaining: 411ms\n",
            "887:\tlearn: 0.1109739\ttotal: 3.23s\tremaining: 407ms\n",
            "888:\tlearn: 0.1108300\ttotal: 3.23s\tremaining: 403ms\n",
            "889:\tlearn: 0.1106821\ttotal: 3.23s\tremaining: 400ms\n",
            "890:\tlearn: 0.1105848\ttotal: 3.24s\tremaining: 396ms\n",
            "891:\tlearn: 0.1104945\ttotal: 3.24s\tremaining: 392ms\n",
            "892:\tlearn: 0.1103906\ttotal: 3.24s\tremaining: 389ms\n",
            "893:\tlearn: 0.1102639\ttotal: 3.25s\tremaining: 385ms\n",
            "894:\tlearn: 0.1099939\ttotal: 3.25s\tremaining: 382ms\n",
            "895:\tlearn: 0.1098992\ttotal: 3.25s\tremaining: 378ms\n",
            "896:\tlearn: 0.1098049\ttotal: 3.26s\tremaining: 374ms\n",
            "897:\tlearn: 0.1096887\ttotal: 3.26s\tremaining: 371ms\n",
            "898:\tlearn: 0.1095538\ttotal: 3.27s\tremaining: 367ms\n",
            "899:\tlearn: 0.1094801\ttotal: 3.27s\tremaining: 363ms\n",
            "900:\tlearn: 0.1093990\ttotal: 3.27s\tremaining: 360ms\n",
            "901:\tlearn: 0.1093509\ttotal: 3.28s\tremaining: 356ms\n",
            "902:\tlearn: 0.1092594\ttotal: 3.28s\tremaining: 352ms\n",
            "903:\tlearn: 0.1090319\ttotal: 3.28s\tremaining: 349ms\n",
            "904:\tlearn: 0.1089048\ttotal: 3.29s\tremaining: 345ms\n",
            "905:\tlearn: 0.1087587\ttotal: 3.29s\tremaining: 341ms\n",
            "906:\tlearn: 0.1086362\ttotal: 3.29s\tremaining: 338ms\n",
            "907:\tlearn: 0.1085638\ttotal: 3.3s\tremaining: 334ms\n",
            "908:\tlearn: 0.1084831\ttotal: 3.3s\tremaining: 330ms\n",
            "909:\tlearn: 0.1082710\ttotal: 3.3s\tremaining: 327ms\n",
            "910:\tlearn: 0.1081327\ttotal: 3.31s\tremaining: 323ms\n",
            "911:\tlearn: 0.1080440\ttotal: 3.31s\tremaining: 319ms\n",
            "912:\tlearn: 0.1079293\ttotal: 3.31s\tremaining: 316ms\n",
            "913:\tlearn: 0.1077581\ttotal: 3.32s\tremaining: 312ms\n",
            "914:\tlearn: 0.1076459\ttotal: 3.32s\tremaining: 308ms\n",
            "915:\tlearn: 0.1075331\ttotal: 3.32s\tremaining: 305ms\n",
            "916:\tlearn: 0.1075020\ttotal: 3.33s\tremaining: 301ms\n",
            "917:\tlearn: 0.1073221\ttotal: 3.33s\tremaining: 297ms\n",
            "918:\tlearn: 0.1072532\ttotal: 3.33s\tremaining: 294ms\n",
            "919:\tlearn: 0.1071874\ttotal: 3.34s\tremaining: 290ms\n",
            "920:\tlearn: 0.1071265\ttotal: 3.34s\tremaining: 287ms\n",
            "921:\tlearn: 0.1070495\ttotal: 3.34s\tremaining: 283ms\n",
            "922:\tlearn: 0.1069681\ttotal: 3.35s\tremaining: 279ms\n",
            "923:\tlearn: 0.1068412\ttotal: 3.35s\tremaining: 276ms\n",
            "924:\tlearn: 0.1066433\ttotal: 3.35s\tremaining: 272ms\n",
            "925:\tlearn: 0.1065610\ttotal: 3.36s\tremaining: 268ms\n",
            "926:\tlearn: 0.1064376\ttotal: 3.36s\tremaining: 265ms\n",
            "927:\tlearn: 0.1062655\ttotal: 3.37s\tremaining: 261ms\n",
            "928:\tlearn: 0.1061592\ttotal: 3.37s\tremaining: 258ms\n",
            "929:\tlearn: 0.1059990\ttotal: 3.38s\tremaining: 254ms\n",
            "930:\tlearn: 0.1059247\ttotal: 3.38s\tremaining: 250ms\n",
            "931:\tlearn: 0.1058557\ttotal: 3.38s\tremaining: 247ms\n",
            "932:\tlearn: 0.1056070\ttotal: 3.38s\tremaining: 243ms\n",
            "933:\tlearn: 0.1055304\ttotal: 3.39s\tremaining: 239ms\n",
            "934:\tlearn: 0.1054311\ttotal: 3.39s\tremaining: 236ms\n",
            "935:\tlearn: 0.1053306\ttotal: 3.39s\tremaining: 232ms\n",
            "936:\tlearn: 0.1052368\ttotal: 3.4s\tremaining: 228ms\n",
            "937:\tlearn: 0.1050690\ttotal: 3.4s\tremaining: 225ms\n",
            "938:\tlearn: 0.1049748\ttotal: 3.41s\tremaining: 221ms\n",
            "939:\tlearn: 0.1047984\ttotal: 3.42s\tremaining: 218ms\n",
            "940:\tlearn: 0.1047126\ttotal: 3.42s\tremaining: 215ms\n",
            "941:\tlearn: 0.1046298\ttotal: 3.42s\tremaining: 211ms\n",
            "942:\tlearn: 0.1043944\ttotal: 3.43s\tremaining: 207ms\n",
            "943:\tlearn: 0.1042133\ttotal: 3.43s\tremaining: 204ms\n",
            "944:\tlearn: 0.1040892\ttotal: 3.44s\tremaining: 200ms\n",
            "945:\tlearn: 0.1039522\ttotal: 3.44s\tremaining: 196ms\n",
            "946:\tlearn: 0.1036790\ttotal: 3.44s\tremaining: 193ms\n",
            "947:\tlearn: 0.1035318\ttotal: 3.45s\tremaining: 189ms\n",
            "948:\tlearn: 0.1033824\ttotal: 3.45s\tremaining: 185ms\n",
            "949:\tlearn: 0.1032682\ttotal: 3.45s\tremaining: 182ms\n",
            "950:\tlearn: 0.1031906\ttotal: 3.46s\tremaining: 178ms\n",
            "951:\tlearn: 0.1030044\ttotal: 3.46s\tremaining: 174ms\n",
            "952:\tlearn: 0.1028430\ttotal: 3.46s\tremaining: 171ms\n",
            "953:\tlearn: 0.1027375\ttotal: 3.47s\tremaining: 167ms\n",
            "954:\tlearn: 0.1026295\ttotal: 3.47s\tremaining: 164ms\n",
            "955:\tlearn: 0.1025620\ttotal: 3.47s\tremaining: 160ms\n",
            "956:\tlearn: 0.1023405\ttotal: 3.48s\tremaining: 156ms\n",
            "957:\tlearn: 0.1022539\ttotal: 3.48s\tremaining: 153ms\n",
            "958:\tlearn: 0.1022011\ttotal: 3.48s\tremaining: 149ms\n",
            "959:\tlearn: 0.1021332\ttotal: 3.49s\tremaining: 145ms\n",
            "960:\tlearn: 0.1020728\ttotal: 3.49s\tremaining: 142ms\n",
            "961:\tlearn: 0.1020305\ttotal: 3.49s\tremaining: 138ms\n",
            "962:\tlearn: 0.1017603\ttotal: 3.5s\tremaining: 134ms\n",
            "963:\tlearn: 0.1016408\ttotal: 3.5s\tremaining: 131ms\n",
            "964:\tlearn: 0.1013470\ttotal: 3.5s\tremaining: 127ms\n",
            "965:\tlearn: 0.1011925\ttotal: 3.51s\tremaining: 123ms\n",
            "966:\tlearn: 0.1010738\ttotal: 3.51s\tremaining: 120ms\n",
            "967:\tlearn: 0.1008740\ttotal: 3.51s\tremaining: 116ms\n",
            "968:\tlearn: 0.1007831\ttotal: 3.52s\tremaining: 113ms\n",
            "969:\tlearn: 0.1007295\ttotal: 3.52s\tremaining: 109ms\n",
            "970:\tlearn: 0.1006405\ttotal: 3.52s\tremaining: 105ms\n",
            "971:\tlearn: 0.1005395\ttotal: 3.53s\tremaining: 102ms\n",
            "972:\tlearn: 0.1004334\ttotal: 3.53s\tremaining: 98ms\n",
            "973:\tlearn: 0.1003384\ttotal: 3.53s\tremaining: 94.4ms\n",
            "974:\tlearn: 0.1000707\ttotal: 3.54s\tremaining: 90.7ms\n",
            "975:\tlearn: 0.0999956\ttotal: 3.54s\tremaining: 87.1ms\n",
            "976:\tlearn: 0.0999094\ttotal: 3.54s\tremaining: 83.5ms\n",
            "977:\tlearn: 0.0998214\ttotal: 3.55s\tremaining: 79.8ms\n",
            "978:\tlearn: 0.0996835\ttotal: 3.55s\tremaining: 76.2ms\n",
            "979:\tlearn: 0.0995672\ttotal: 3.56s\tremaining: 72.6ms\n",
            "980:\tlearn: 0.0994954\ttotal: 3.56s\tremaining: 68.9ms\n",
            "981:\tlearn: 0.0994044\ttotal: 3.56s\tremaining: 65.4ms\n",
            "982:\tlearn: 0.0993426\ttotal: 3.57s\tremaining: 61.7ms\n",
            "983:\tlearn: 0.0992255\ttotal: 3.57s\tremaining: 58.1ms\n",
            "984:\tlearn: 0.0991230\ttotal: 3.57s\tremaining: 54.4ms\n",
            "985:\tlearn: 0.0990729\ttotal: 3.58s\tremaining: 50.8ms\n",
            "986:\tlearn: 0.0990189\ttotal: 3.58s\tremaining: 47.2ms\n",
            "987:\tlearn: 0.0987510\ttotal: 3.58s\tremaining: 43.5ms\n",
            "988:\tlearn: 0.0985913\ttotal: 3.59s\tremaining: 39.9ms\n",
            "989:\tlearn: 0.0985118\ttotal: 3.59s\tremaining: 36.3ms\n",
            "990:\tlearn: 0.0984663\ttotal: 3.59s\tremaining: 32.6ms\n",
            "991:\tlearn: 0.0983149\ttotal: 3.6s\tremaining: 29ms\n",
            "992:\tlearn: 0.0981268\ttotal: 3.6s\tremaining: 25.4ms\n",
            "993:\tlearn: 0.0980046\ttotal: 3.6s\tremaining: 21.8ms\n",
            "994:\tlearn: 0.0979010\ttotal: 3.61s\tremaining: 18.1ms\n",
            "995:\tlearn: 0.0977760\ttotal: 3.61s\tremaining: 14.5ms\n",
            "996:\tlearn: 0.0976836\ttotal: 3.61s\tremaining: 10.9ms\n",
            "997:\tlearn: 0.0974327\ttotal: 3.62s\tremaining: 7.25ms\n",
            "998:\tlearn: 0.0974043\ttotal: 3.62s\tremaining: 3.62ms\n",
            "999:\tlearn: 0.0973125\ttotal: 3.62s\tremaining: 0us\n",
            "0.9645244215938303\n"
          ]
        }
      ],
      "source": [
        "g t;lk,szzmodel_CBC = ctb.CatBoostClassifier()\n",
        "model_CBC.fit(X_train, y_train)\n",
        "expected_y  = y_test\n",
        "predicted_y = model_CBC.predict(X_test)\n",
        "CB_accuracy = accuracy_score(expected_y,predicted_y)\n",
        "print(CB_accuracy)"
      ]
    },
    {
      "cell_type": "code",
      "execution_count": null,
      "metadata": {
        "colab": {
          "background_save": true
        },
        "id": "0h_8ibB4Crp8",
        "outputId": "542bf7a0-7fa5-4bd9-883a-4d1ec58df48c"
      },
      "outputs": [
        {
          "name": "stdout",
          "output_type": "stream",
          "text": [
            "              precision    recall  f1-score   support\n",
            "\n",
            "           0       1.00      0.93      0.96       975\n",
            "           1       0.93      1.00      0.97       970\n",
            "\n",
            "    accuracy                           0.96      1945\n",
            "   macro avg       0.97      0.96      0.96      1945\n",
            "weighted avg       0.97      0.96      0.96      1945\n",
            "\n"
          ]
        }
      ],
      "source": [
        "print(classification_report(expected_y,predicted_y))"
      ]
    },
    {
      "cell_type": "code",
      "execution_count": null,
      "metadata": {
        "colab": {
          "background_save": true
        },
        "id": "-k3n-WRPOZbW"
      },
      "outputs": [],
      "source": [
        "import matplotlib.pyplot as plt\n",
        "import numpy as np"
      ]
    },
    {
      "cell_type": "code",
      "execution_count": null,
      "metadata": {
        "colab": {
          "background_save": true
        },
        "id": "UU2cFvBSQjMD",
        "outputId": "f8453497-b34f-47c6-89a1-f9eb69395eef"
      },
      "outputs": [
        {
          "data": {
            "image/png": "[encoded data removed]",
            "text/plain": [
              "<Figure size 640x480 with 1 Axes>"
            ]
          },
          "metadata": {},
          "output_type": "display_data"
        }
      ],
      "source": [
        "x = np.array([\"Decision\\nTree\",\"KNN\",\"Random\\nForest\",\"SVM\",\"Logistic\\nRegression\",\"XG\\nBoost\",\"Ada\\nBoost\",\"Cat\\nBoost\"])\n",
        "y = np.array([DT_accuracy,KNN_accuracy,RF_accuracy,SVM_accuracy,LR_accuracy,XG_accuracy,ADa_accuracy,CB_accuracy])\n",
        "plt.xlabel(\"Algorithms\",fontsize = 16)\n",
        "plt.ylabel(\"Accuracy\",fontsize = 16)\n",
        "plt.bar(x,y,width = 0.4)\n",
        "plt.show()"
      ]
    },
    {
      "cell_type": "code",
      "execution_count": null,
      "metadata": {
        "colab": {
          "background_save": true
        },
        "id": "QADymQ6TALjA",
        "outputId": "671888e9-abf3-4a83-c6a9-5c400762c428"
      },
      "outputs": [
        {
          "name": "stdout",
          "output_type": "stream",
          "text": [
            "1\n"
          ]
        }
      ],
      "source": [
        "age=75\n",
        "avg_glucose_level=300\n",
        "bmi=36.6\n",
        "gender_Male=1\n",
        "ever_married_Yes=1\n",
        "work_type_Never_worked=0\n",
        "work_type_Private=1\n",
        "work_type_Self_employed=0\n",
        "work_type_children=0\n",
        "Residence_type_Urban=1\n",
        "smoking_status_formerly_smoked=1\n",
        "smoking_status_never_smoked=0\n",
        "smoking_status_smokes=0\n",
        "hypertension_1=1\n",
        "heart_disease_1=1\n",
        "input_features = [age\t,avg_glucose_level,\tbmi\t,gender_Male,hypertension_1,\theart_disease_1,ever_married_Yes,\twork_type_Never_worked,\twork_type_Private,\twork_type_Self_employed,\twork_type_children\t,Residence_type_Urban,\tsmoking_status_formerly_smoked,smoking_status_never_smoked\t,smoking_status_smokes]\n",
        "\n",
        "features_value = [np.array(input_features)]\n",
        "features_name = ['age'\t,'avg_glucose_level',\t'bmi'\t,'gender_Male'\t,'hypertension_1',\t'heart_disease_1','ever_married_Yes',\t'work_type_Never_worked',\t'work_type_Private',\t'work_type_Self-employed',\t'work_type_children'\t,'Residence_type_Urban',\t'smoking_status_formerly smoked','smoking_status_never smoked'\t,'smoking_status_smokes']\n",
        "\n",
        "df = pd.DataFrame(features_value, columns=features_name)\n",
        "prediction = rf_clf.predict(df)[0]\n",
        "print(prediction)\n"
      ]
    },
    {
      "cell_type": "code",
      "execution_count": null,
      "metadata": {
        "colab": {
          "background_save": true
        },
        "id": "B8w1DBhMALjA",
        "outputId": "15457ecb-bceb-4aaa-a936-9d296bce38ab"
      },
      "outputs": [
        {
          "name": "stdout",
          "output_type": "stream",
          "text": [
            "0\n"
          ]
        }
      ],
      "source": [
        "age=45\n",
        "avg_glucose_level=234\n",
        "bmi=45.6\n",
        "gender_Male=0\n",
        "ever_married_Yes=1\n",
        "work_type_Never_worked=0\n",
        "work_type_Private=1\n",
        "work_type_Self_employed=1\n",
        "work_type_children=0\n",
        "Residence_type_Urban=1\n",
        "smoking_status_formerly_smoked=0\n",
        "smoking_status_never_smoked=0\n",
        "smoking_status_smokes=1\n",
        "hypertension_1=1\n",
        "heart_disease_1=0\n",
        "input_features = [age\t,avg_glucose_level,\tbmi\t,gender_Male,hypertension_1,\theart_disease_1,ever_married_Yes,\twork_type_Never_worked,\twork_type_Private,\twork_type_Self_employed,\twork_type_children\t,Residence_type_Urban,\tsmoking_status_formerly_smoked,smoking_status_never_smoked\t,smoking_status_smokes]\n",
        "\n",
        "features_value = [np.array(input_features)]\n",
        "features_name = ['age'\t,'avg_glucose_level',\t'bmi'\t,'gender_Male'\t,'hypertension_1',\t'heart_disease_1','ever_married_Yes',\t'work_type_Never_worked',\t'work_type_Private',\t'work_type_Self-employed',\t'work_type_children'\t,'Residence_type_Urban',\t'smoking_status_formerly smoked','smoking_status_never smoked'\t,'smoking_status_smokes']\n",
        "\n",
        "df = pd.DataFrame(features_value, columns=features_name)\n",
        "prediction = rf_clf.predict(df)[0]\n",
        "print(prediction)\n"
      ]
    },
    {
      "cell_type": "code",
      "execution_count": null,
      "metadata": {
        "colab": {
          "background_save": true
        },
        "id": "PMRky1fOALjA"
      },
      "outputs": [],
      "source": []
    }
  ],
  "metadata": {
    "colab": {
      "provenance": [],
      "toc_visible": true
    },
    "kernelspec": {
      "display_name": "Python 3 (ipykernel)",
      "language": "python",
      "name": "python3"
    },
    "language_info": {
      "codemirror_mode": {
        "name": "ipython",
        "version": 3
      },
      "file_extension": ".py",
      "mimetype": "text/x-python",
      "name": "python",
      "nbconvert_exporter": "python",
      "pygments_lexer": "ipython3",
      "version": "3.9.7"
    },
    "vscode": {
      "interpreter": {
        "hash": "ad2bdc8ecc057115af97d19610ffacc2b4e99fae6737bb82f5d7fb13d2f2c186"
      }
    }
  },
  "nbformat": 4,
  "nbformat_minor": 0
}